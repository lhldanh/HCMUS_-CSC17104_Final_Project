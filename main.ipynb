{
 "cells": [
  {
   "cell_type": "markdown",
   "metadata": {},
   "source": [
    "***Nhóm 25*** </br>\n",
    "Thành viên:\n",
    "- Liêu Hải Lưu Danh - 22120459\n",
    "- Đỗ Thanh Tùng - 22120408\n",
    "- Phạm Ngọc Hoà - 22120109"
   ]
  },
  {
   "cell_type": "markdown",
   "metadata": {},
   "source": [
    "# 1. Import Libraries"
   ]
  },
  {
   "cell_type": "code",
   "execution_count": 59,
   "metadata": {},
   "outputs": [],
   "source": [
    "from pprint import pprint\n",
    "import pandas as pd\n",
    "import numpy as np\n",
    "\n",
    "import seaborn as sns\n",
    "import matplotlib.pyplot as plt\n",
    "\n",
    "from scipy.stats import f_oneway\n",
    "from scipy.stats import ttest_ind\n",
    "from scipy.stats import chi2_contingency\n",
    "\n",
    "\n",
    "from sklearn.preprocessing import LabelEncoder\n",
    "from sklearn.ensemble import RandomForestClassifier\n",
    "from sklearn.model_selection import GridSearchCV\n",
    "from sklearn.model_selection import train_test_split\n",
    "from sklearn.metrics import classification_report, accuracy_score\n",
    "\n",
    "import warnings\n",
    "warnings.filterwarnings('ignore')"
   ]
  },
  {
   "cell_type": "markdown",
   "metadata": {},
   "source": [
    "# 2. Read Dataset"
   ]
  },
  {
   "cell_type": "markdown",
   "metadata": {},
   "source": [
    "+ Đây là tập dữ liệu để khảo sát vấn đề bị trầm cảm ở đối tượng là học sinh, sinh viên ở Ấn Độ."
   ]
  },
  {
   "cell_type": "code",
   "execution_count": 60,
   "metadata": {},
   "outputs": [
    {
     "data": {
      "text/html": [
       "<div>\n",
       "<style scoped>\n",
       "    .dataframe tbody tr th:only-of-type {\n",
       "        vertical-align: middle;\n",
       "    }\n",
       "\n",
       "    .dataframe tbody tr th {\n",
       "        vertical-align: top;\n",
       "    }\n",
       "\n",
       "    .dataframe thead th {\n",
       "        text-align: right;\n",
       "    }\n",
       "</style>\n",
       "<table border=\"1\" class=\"dataframe\">\n",
       "  <thead>\n",
       "    <tr style=\"text-align: right;\">\n",
       "      <th></th>\n",
       "      <th>id</th>\n",
       "      <th>Gender</th>\n",
       "      <th>Age</th>\n",
       "      <th>City</th>\n",
       "      <th>Profession</th>\n",
       "      <th>Academic Pressure</th>\n",
       "      <th>Work Pressure</th>\n",
       "      <th>CGPA</th>\n",
       "      <th>Study Satisfaction</th>\n",
       "      <th>Job Satisfaction</th>\n",
       "      <th>Sleep Duration</th>\n",
       "      <th>Dietary Habits</th>\n",
       "      <th>Degree</th>\n",
       "      <th>Have you ever had suicidal thoughts ?</th>\n",
       "      <th>Work/Study Hours</th>\n",
       "      <th>Financial Stress</th>\n",
       "      <th>Family History of Mental Illness</th>\n",
       "      <th>Depression</th>\n",
       "    </tr>\n",
       "  </thead>\n",
       "  <tbody>\n",
       "    <tr>\n",
       "      <th>0</th>\n",
       "      <td>2</td>\n",
       "      <td>Male</td>\n",
       "      <td>33.0</td>\n",
       "      <td>Visakhapatnam</td>\n",
       "      <td>Student</td>\n",
       "      <td>5.0</td>\n",
       "      <td>0.0</td>\n",
       "      <td>8.97</td>\n",
       "      <td>2.0</td>\n",
       "      <td>0.0</td>\n",
       "      <td>5-6 hours</td>\n",
       "      <td>Healthy</td>\n",
       "      <td>B.Pharm</td>\n",
       "      <td>Yes</td>\n",
       "      <td>3.0</td>\n",
       "      <td>1.0</td>\n",
       "      <td>No</td>\n",
       "      <td>1</td>\n",
       "    </tr>\n",
       "    <tr>\n",
       "      <th>1</th>\n",
       "      <td>8</td>\n",
       "      <td>Female</td>\n",
       "      <td>24.0</td>\n",
       "      <td>Bangalore</td>\n",
       "      <td>Student</td>\n",
       "      <td>2.0</td>\n",
       "      <td>0.0</td>\n",
       "      <td>5.90</td>\n",
       "      <td>5.0</td>\n",
       "      <td>0.0</td>\n",
       "      <td>5-6 hours</td>\n",
       "      <td>Moderate</td>\n",
       "      <td>BSc</td>\n",
       "      <td>No</td>\n",
       "      <td>3.0</td>\n",
       "      <td>2.0</td>\n",
       "      <td>Yes</td>\n",
       "      <td>0</td>\n",
       "    </tr>\n",
       "    <tr>\n",
       "      <th>2</th>\n",
       "      <td>26</td>\n",
       "      <td>Male</td>\n",
       "      <td>31.0</td>\n",
       "      <td>Srinagar</td>\n",
       "      <td>Student</td>\n",
       "      <td>3.0</td>\n",
       "      <td>0.0</td>\n",
       "      <td>7.03</td>\n",
       "      <td>5.0</td>\n",
       "      <td>0.0</td>\n",
       "      <td>Less than 5 hours</td>\n",
       "      <td>Healthy</td>\n",
       "      <td>BA</td>\n",
       "      <td>No</td>\n",
       "      <td>9.0</td>\n",
       "      <td>1.0</td>\n",
       "      <td>Yes</td>\n",
       "      <td>0</td>\n",
       "    </tr>\n",
       "    <tr>\n",
       "      <th>3</th>\n",
       "      <td>30</td>\n",
       "      <td>Female</td>\n",
       "      <td>28.0</td>\n",
       "      <td>Varanasi</td>\n",
       "      <td>Student</td>\n",
       "      <td>3.0</td>\n",
       "      <td>0.0</td>\n",
       "      <td>5.59</td>\n",
       "      <td>2.0</td>\n",
       "      <td>0.0</td>\n",
       "      <td>7-8 hours</td>\n",
       "      <td>Moderate</td>\n",
       "      <td>BCA</td>\n",
       "      <td>Yes</td>\n",
       "      <td>4.0</td>\n",
       "      <td>5.0</td>\n",
       "      <td>Yes</td>\n",
       "      <td>1</td>\n",
       "    </tr>\n",
       "    <tr>\n",
       "      <th>4</th>\n",
       "      <td>32</td>\n",
       "      <td>Female</td>\n",
       "      <td>25.0</td>\n",
       "      <td>Jaipur</td>\n",
       "      <td>Student</td>\n",
       "      <td>4.0</td>\n",
       "      <td>0.0</td>\n",
       "      <td>8.13</td>\n",
       "      <td>3.0</td>\n",
       "      <td>0.0</td>\n",
       "      <td>5-6 hours</td>\n",
       "      <td>Moderate</td>\n",
       "      <td>M.Tech</td>\n",
       "      <td>Yes</td>\n",
       "      <td>1.0</td>\n",
       "      <td>1.0</td>\n",
       "      <td>No</td>\n",
       "      <td>0</td>\n",
       "    </tr>\n",
       "  </tbody>\n",
       "</table>\n",
       "</div>"
      ],
      "text/plain": [
       "   id  Gender   Age           City Profession  Academic Pressure  \\\n",
       "0   2    Male  33.0  Visakhapatnam    Student                5.0   \n",
       "1   8  Female  24.0      Bangalore    Student                2.0   \n",
       "2  26    Male  31.0       Srinagar    Student                3.0   \n",
       "3  30  Female  28.0       Varanasi    Student                3.0   \n",
       "4  32  Female  25.0         Jaipur    Student                4.0   \n",
       "\n",
       "   Work Pressure  CGPA  Study Satisfaction  Job Satisfaction  \\\n",
       "0            0.0  8.97                 2.0               0.0   \n",
       "1            0.0  5.90                 5.0               0.0   \n",
       "2            0.0  7.03                 5.0               0.0   \n",
       "3            0.0  5.59                 2.0               0.0   \n",
       "4            0.0  8.13                 3.0               0.0   \n",
       "\n",
       "      Sleep Duration Dietary Habits   Degree  \\\n",
       "0          5-6 hours        Healthy  B.Pharm   \n",
       "1          5-6 hours       Moderate      BSc   \n",
       "2  Less than 5 hours        Healthy       BA   \n",
       "3          7-8 hours       Moderate      BCA   \n",
       "4          5-6 hours       Moderate   M.Tech   \n",
       "\n",
       "  Have you ever had suicidal thoughts ?  Work/Study Hours  Financial Stress  \\\n",
       "0                                   Yes               3.0               1.0   \n",
       "1                                    No               3.0               2.0   \n",
       "2                                    No               9.0               1.0   \n",
       "3                                   Yes               4.0               5.0   \n",
       "4                                   Yes               1.0               1.0   \n",
       "\n",
       "  Family History of Mental Illness  Depression  \n",
       "0                               No           1  \n",
       "1                              Yes           0  \n",
       "2                              Yes           0  \n",
       "3                              Yes           1  \n",
       "4                               No           0  "
      ]
     },
     "execution_count": 60,
     "metadata": {},
     "output_type": "execute_result"
    }
   ],
   "source": [
    "df = pd.read_csv('student_depression.csv')\n",
    "df.head()"
   ]
  },
  {
   "cell_type": "code",
   "execution_count": 61,
   "metadata": {},
   "outputs": [
    {
     "name": "stdout",
     "output_type": "stream",
     "text": [
      "Số lượng mẫu trong bộ dữ liệu này là: 27901\n",
      "\n"
     ]
    }
   ],
   "source": [
    "n_rows,n_cols=df.shape\n",
    "print(f\"Số lượng mẫu trong bộ dữ liệu này là: {n_rows}\\n\")"
   ]
  },
  {
   "cell_type": "code",
   "execution_count": 62,
   "metadata": {},
   "outputs": [
    {
     "name": "stdout",
     "output_type": "stream",
     "text": [
      "(\"Bộ dữ liệu có 18 đặc trưng, bao gồm ['id', 'Gender', 'Age', 'City', \"\n",
      " \"'Profession', 'Academic Pressure', 'Work Pressure', 'CGPA', 'Study \"\n",
      " \"Satisfaction', 'Job Satisfaction', 'Sleep Duration', 'Dietary Habits', \"\n",
      " \"'Degree', 'Have you ever had suicidal thoughts ?', 'Work/Study Hours', \"\n",
      " \"'Financial Stress', 'Family History of Mental Illness', 'Depression']\")\n"
     ]
    }
   ],
   "source": [
    "pprint(f\"Bộ dữ liệu có {n_cols} đặc trưng, bao gồm {df.columns.to_list()}\")"
   ]
  },
  {
   "cell_type": "markdown",
   "metadata": {},
   "source": [
    "##### Mô tả cho từng đặc trưng:\n",
    "+ ID: Chỉ số .\n",
    "+ Gender: Giới tính (Male/Female).\n",
    "+ Age: Tuổi.\n",
    "+ City: Thành phố cư trú.\n",
    "+ Profession: Nghề nghiệp.\n",
    "+ Academic Pressure: Áp lực học tập. (giá trị từ 0 đến 5)\n",
    "+ Work Pressure: Áp lực công việc. (giá trị từ 0 đến 5)\n",
    "+ CGPA: Điểm trung bình tích lũy. (giá trị từ 0 đến 10)\n",
    "+ Study Satisfaction: Sự hài lòng với việc học. (giá trị từ 0 đến 5)\n",
    "+ Job Satisfaction: Sự hài lòng với công việc. (giá trị từ 0 đến 5)\n",
    "+ Sleep Duration: Thời gian ngủ. (chia thành 4 nhóm)\n",
    "+ Dietary Habits: Mức độ lành mạnh của thói quen ăn uống. (chia thanh 4 nhóm)\n",
    "+ Degree: Bằng cấp.\n",
    "+ Suicidal Thoughts: Ý nghĩ tự tử (Có/Không).\n",
    "+ Work/Study Hours: Thời gian làm việc/học tập. \n",
    "+ Financial Stress: Căng thẳng tài chính. (giá trị từ 0 đến 5)\n",
    "+ Family History of Mental Illness: Lịch sử bệnh tâm thần trong gia đình. (Có/Không)\n",
    "+ Depression: Tình trạng trầm cảm. (Có/Không)"
   ]
  },
  {
   "cell_type": "markdown",
   "metadata": {},
   "source": [
    "# 3. Preprocess Data\n"
   ]
  },
  {
   "cell_type": "code",
   "execution_count": 63,
   "metadata": {},
   "outputs": [
    {
     "name": "stdout",
     "output_type": "stream",
     "text": [
      "<class 'pandas.core.frame.DataFrame'>\n",
      "RangeIndex: 27901 entries, 0 to 27900\n",
      "Data columns (total 18 columns):\n",
      " #   Column                                 Non-Null Count  Dtype  \n",
      "---  ------                                 --------------  -----  \n",
      " 0   id                                     27901 non-null  int64  \n",
      " 1   Gender                                 27901 non-null  object \n",
      " 2   Age                                    27901 non-null  float64\n",
      " 3   City                                   27901 non-null  object \n",
      " 4   Profession                             27901 non-null  object \n",
      " 5   Academic Pressure                      27901 non-null  float64\n",
      " 6   Work Pressure                          27901 non-null  float64\n",
      " 7   CGPA                                   27901 non-null  float64\n",
      " 8   Study Satisfaction                     27901 non-null  float64\n",
      " 9   Job Satisfaction                       27901 non-null  float64\n",
      " 10  Sleep Duration                         27901 non-null  object \n",
      " 11  Dietary Habits                         27901 non-null  object \n",
      " 12  Degree                                 27901 non-null  object \n",
      " 13  Have you ever had suicidal thoughts ?  27901 non-null  object \n",
      " 14  Work/Study Hours                       27901 non-null  float64\n",
      " 15  Financial Stress                       27898 non-null  float64\n",
      " 16  Family History of Mental Illness       27901 non-null  object \n",
      " 17  Depression                             27901 non-null  int64  \n",
      "dtypes: float64(8), int64(2), object(8)\n",
      "memory usage: 3.8+ MB\n"
     ]
    }
   ],
   "source": [
    "df.info()"
   ]
  },
  {
   "cell_type": "code",
   "execution_count": 64,
   "metadata": {},
   "outputs": [
    {
     "data": {
      "text/plain": [
       "id                                       0\n",
       "Gender                                   0\n",
       "Age                                      0\n",
       "City                                     0\n",
       "Profession                               0\n",
       "Academic Pressure                        0\n",
       "Work Pressure                            0\n",
       "CGPA                                     0\n",
       "Study Satisfaction                       0\n",
       "Job Satisfaction                         0\n",
       "Sleep Duration                           0\n",
       "Dietary Habits                           0\n",
       "Degree                                   0\n",
       "Have you ever had suicidal thoughts ?    0\n",
       "Work/Study Hours                         0\n",
       "Financial Stress                         3\n",
       "Family History of Mental Illness         0\n",
       "Depression                               0\n",
       "dtype: int64"
      ]
     },
     "execution_count": 64,
     "metadata": {},
     "output_type": "execute_result"
    }
   ],
   "source": [
    "df.isna().sum()"
   ]
  },
  {
   "cell_type": "markdown",
   "metadata": {},
   "source": [
    "+ Điền các giá trị NaN của cột Financial Stress bằng giá trị median của cột này"
   ]
  },
  {
   "cell_type": "code",
   "execution_count": 65,
   "metadata": {},
   "outputs": [],
   "source": [
    "df['Financial Stress'] = df['Financial Stress'].fillna(df['Financial Stress'].median())"
   ]
  },
  {
   "cell_type": "code",
   "execution_count": 66,
   "metadata": {},
   "outputs": [
    {
     "name": "stdout",
     "output_type": "stream",
     "text": [
      "Có các cột trùng lắp: False\n"
     ]
    }
   ],
   "source": [
    "is_duplicate=df.duplicated().any()\n",
    "print(f\"Có các cột trùng lắp: {is_duplicate}\")"
   ]
  },
  {
   "cell_type": "markdown",
   "metadata": {},
   "source": [
    "# 4. EDA"
   ]
  },
  {
   "cell_type": "markdown",
   "metadata": {},
   "source": [
    "## 1. Phân bổ nhân khẩu học và bệnh trầm cảm\n",
    "\n",
    "- Câu hỏi: Phân bố các sinh viên theo độ tuổi, giới tính, liên hệ với bệnh trầm cảm như thế nào?\n",
    "- Mục đích: Bệnh trầm cảm thường gặp phải ở những độ tuổi nào, nam hay nữ dễ bị trầm cảm hơn."
   ]
  },
  {
   "cell_type": "markdown",
   "metadata": {},
   "source": [
    "Trước tiên ta khảo sát độ tuổi của các đối tượng trong dữ liệu"
   ]
  },
  {
   "cell_type": "code",
   "execution_count": 67,
   "metadata": {},
   "outputs": [
    {
     "data": {
      "image/png": "[encoded data removed]",
      "text/plain": [
       "<Figure size 640x480 with 1 Axes>"
      ]
     },
     "metadata": {},
     "output_type": "display_data"
    }
   ],
   "source": [
    "plt.hist(df['Age'],edgecolor='white',bins=30)\n",
    "plt.xlabel('Age')\n",
    "plt.ylabel('Counts');"
   ]
  },
  {
   "cell_type": "markdown",
   "metadata": {},
   "source": [
    "Một cách trực quan, độ tuổi của đối tượng khảo sát sẽ nằm trong khoảng 15-35 tuổi  \n",
    "Để dễ dàng khảo sát ý nghĩa của dữ liệu này hơn, ta sẽ chia tuổi thành các nhóm dựa vào tứ phân vị"
   ]
  },
  {
   "cell_type": "code",
   "execution_count": 68,
   "metadata": {},
   "outputs": [
    {
     "name": "stdout",
     "output_type": "stream",
     "text": [
      "Tứ phân vị thứ 1: 21.0\n",
      "Tứ phân vị thứ 2: 25.0\n",
      "Tứ phân vị thứ 3: 30.0\n"
     ]
    }
   ],
   "source": [
    "qs=[.25,.5,.75]\n",
    "for i,q in enumerate(qs):\n",
    "    k=df['Age'].quantile(q)\n",
    "    print(f'Tứ phân vị thứ {i+1}: {k}')"
   ]
  },
  {
   "cell_type": "code",
   "execution_count": 69,
   "metadata": {},
   "outputs": [
    {
     "data": {
      "image/png": "[encoded data removed]",
      "text/plain": [
       "<Figure size 640x480 with 1 Axes>"
      ]
     },
     "metadata": {},
     "output_type": "display_data"
    }
   ],
   "source": [
    "age_labels=['Below 21','21-25','26-30','Above 30']\n",
    "df1=df[['Age','Gender','City','Depression']]\n",
    "\n",
    "df1['Age group']=pd.cut(df['Age'],bins=[0,21,25,30,100],\n",
    "           labels=age_labels)\n",
    "df1['Age group'].value_counts()\n",
    "plt.pie(df1['Age group'].value_counts(),\n",
    "        labels=df1['Age group'].value_counts().index,\n",
    "        autopct='%1.1f%%');\n",
    "\n",
    "plt.title('Distribution of Age group');"
   ]
  },
  {
   "cell_type": "markdown",
   "metadata": {},
   "source": [
    "Để so sánh hệ số tương quan giữa các đặc trưng: Age, Gender, Depression, ta sẽ chuyển các giá trị thành object thành số"
   ]
  },
  {
   "cell_type": "code",
   "execution_count": 70,
   "metadata": {},
   "outputs": [
    {
     "data": {
      "image/png": "[encoded data removed]",
      "text/plain": [
       "<Figure size 640x480 with 2 Axes>"
      ]
     },
     "metadata": {},
     "output_type": "display_data"
    }
   ],
   "source": [
    "df1['Age group']=pd.cut(df['Age'],bins=[0,21,25,30,100],\n",
    "           labels=[1,2,3,4])\n",
    "df1['Age group']=df1['Age group'].astype(np.uint8)\n",
    "\n",
    "df1['Gender']=pd.get_dummies(df1['Gender'], drop_first=True)\n",
    "sns.heatmap(df1[['Age group','Gender','Depression']].corr(),annot=True);"
   ]
  },
  {
   "cell_type": "markdown",
   "metadata": {},
   "source": [
    "Dựa vào heatmap, ta có thể nhận xét rằng việc bị trầm cảm có mối liên hệ tuyến tính với độ tuổi. Cụ thể hơn, hệ số tương quan là khoảng -0.2, thể hiện phần nào rằng tuổi càng cao thì càng ít bị trầm cảm hơn.  \n",
    "  \n",
    "Bên cạnh đó giới tính không hề có mối liên hệ tuyến tính nào với các thuộc tính được sử dụng khác."
   ]
  },
  {
   "cell_type": "markdown",
   "metadata": {},
   "source": [
    "##### Plot đồ thị thể hiện tỉ lệ bị trầm cảm dựa trên các nhóm tuổi"
   ]
  },
  {
   "cell_type": "code",
   "execution_count": 71,
   "metadata": {},
   "outputs": [
    {
     "data": {
      "image/png": "[encoded data removed]",
      "text/plain": [
       "<Figure size 640x480 with 1 Axes>"
      ]
     },
     "metadata": {},
     "output_type": "display_data"
    }
   ],
   "source": [
    "age_gender_counts = df1.groupby(['Age group', 'Depression']).size().unstack()\n",
    "age_gender_percentages = age_gender_counts.div(age_gender_counts.sum(axis=1), axis=0) * 100\n",
    "# Plotting\n",
    "age_gender_percentages.plot(kind='bar', stacked=True)  # Change to stacked=True for a stacked bar chart\n",
    "\n",
    "plt.title('Gender Distribution Across Age Groups')\n",
    "plt.xlabel('Age Group')\n",
    "\n",
    "plt.ylabel('Percentage')\n",
    "plt.xticks(rotation=0,labels=age_labels,ticks=range(len(age_labels)))  # Rotate x-axis labels if necessary\n",
    "plt.legend(title='Depression')\n",
    "plt.tight_layout()  # Adjust layout to fit labels\n",
    "plt.show()"
   ]
  },
  {
   "cell_type": "markdown",
   "metadata": {},
   "source": [
    "Đồ thị này biểu thị rõ ràng hơn nhận định tuổi càng cao thì tỉ lệ bị trầm cảm ít hơn."
   ]
  },
  {
   "cell_type": "markdown",
   "metadata": {},
   "source": [
    "##### Ý nghĩa: \n",
    "Tuy các tập dữ liệu có đối tượng khảo sát là học sinh, sinh viên, nhưng nhóm tuổi càng thấp thì càng có dễ bị trầm cảm hơn là nhóm tuổi cao. Điều này có thể là do họ chưa trưởng thành trong cách học và sinh hoạt trong đời sống hằng ngày chưa điều độ dẫn đến tâm trí chưa ổn định"
   ]
  },
  {
   "cell_type": "markdown",
   "metadata": {},
   "source": [
    "## 2. Liên hệ giữa nhân khẩu học và kết quả học tập\n",
    "\n",
    "- Câu hỏi: Độ tuổi, giới tính có mối liên hệ gì với CGPA không?\n",
    "- Mục đích: Xem xét liệu các đặc điểm nhân khẩu học có tương quan với hiệu suất học tập hay không."
   ]
  },
  {
   "cell_type": "code",
   "execution_count": 72,
   "metadata": {},
   "outputs": [
    {
     "data": {
      "text/html": [
       "<div>\n",
       "<style scoped>\n",
       "    .dataframe tbody tr th:only-of-type {\n",
       "        vertical-align: middle;\n",
       "    }\n",
       "\n",
       "    .dataframe tbody tr th {\n",
       "        vertical-align: top;\n",
       "    }\n",
       "\n",
       "    .dataframe thead th {\n",
       "        text-align: right;\n",
       "    }\n",
       "</style>\n",
       "<table border=\"1\" class=\"dataframe\">\n",
       "  <thead>\n",
       "    <tr style=\"text-align: right;\">\n",
       "      <th></th>\n",
       "      <th>Age group</th>\n",
       "      <th>Gender</th>\n",
       "      <th>CGPA</th>\n",
       "    </tr>\n",
       "  </thead>\n",
       "  <tbody>\n",
       "    <tr>\n",
       "      <th>Age group</th>\n",
       "      <td>1.000000</td>\n",
       "      <td>0.014945</td>\n",
       "      <td>0.000331</td>\n",
       "    </tr>\n",
       "    <tr>\n",
       "      <th>Gender</th>\n",
       "      <td>0.014945</td>\n",
       "      <td>1.000000</td>\n",
       "      <td>0.036040</td>\n",
       "    </tr>\n",
       "    <tr>\n",
       "      <th>CGPA</th>\n",
       "      <td>0.000331</td>\n",
       "      <td>0.036040</td>\n",
       "      <td>1.000000</td>\n",
       "    </tr>\n",
       "  </tbody>\n",
       "</table>\n",
       "</div>"
      ],
      "text/plain": [
       "           Age group    Gender      CGPA\n",
       "Age group   1.000000  0.014945  0.000331\n",
       "Gender      0.014945  1.000000  0.036040\n",
       "CGPA        0.000331  0.036040  1.000000"
      ]
     },
     "execution_count": 72,
     "metadata": {},
     "output_type": "execute_result"
    }
   ],
   "source": [
    "age_labels=['Below 21','21-25','26-30','Above 30']\n",
    "df2=df[['Age','Gender','City','CGPA']]\n",
    "df2['Age group']=pd.cut(df['Age'],bins=[0,21,25,30,100],\n",
    "           labels=[1,2,3,4])\n",
    "df2['Age group']=df2['Age group'].astype(np.uint8)\n",
    "df2['Gender']=pd.get_dummies(df2['Gender'], drop_first=True)\n",
    "df2[['Age group','Gender','CGPA']].corr()"
   ]
  },
  {
   "cell_type": "markdown",
   "metadata": {},
   "source": [
    "Các hệ số tương quan đều rất thấp nên mối liên hệ tương quan giữa các biến trên đều rất yếu.\n",
    "Tuy nhiên ta sẽ xem xét kĩ hơn mối quan hệ giữa Gender và CGPA, vì cặp đặc trưng này có hệ số tương quan cao nhất trong các cặp"
   ]
  },
  {
   "cell_type": "markdown",
   "metadata": {},
   "source": [
    "Thống kê mô tả CGPA dựa trên điểm số: "
   ]
  },
  {
   "cell_type": "code",
   "execution_count": 73,
   "metadata": {},
   "outputs": [
    {
     "data": {
      "text/html": [
       "<div>\n",
       "<style scoped>\n",
       "    .dataframe tbody tr th:only-of-type {\n",
       "        vertical-align: middle;\n",
       "    }\n",
       "\n",
       "    .dataframe tbody tr th {\n",
       "        vertical-align: top;\n",
       "    }\n",
       "\n",
       "    .dataframe thead th {\n",
       "        text-align: right;\n",
       "    }\n",
       "</style>\n",
       "<table border=\"1\" class=\"dataframe\">\n",
       "  <thead>\n",
       "    <tr style=\"text-align: right;\">\n",
       "      <th></th>\n",
       "      <th>mean</th>\n",
       "      <th>std</th>\n",
       "      <th>count</th>\n",
       "    </tr>\n",
       "    <tr>\n",
       "      <th>Gender</th>\n",
       "      <th></th>\n",
       "      <th></th>\n",
       "      <th></th>\n",
       "    </tr>\n",
       "  </thead>\n",
       "  <tbody>\n",
       "    <tr>\n",
       "      <th>0</th>\n",
       "      <td>7.596645</td>\n",
       "      <td>1.487053</td>\n",
       "      <td>12354</td>\n",
       "    </tr>\n",
       "    <tr>\n",
       "      <th>1</th>\n",
       "      <td>7.703352</td>\n",
       "      <td>1.455906</td>\n",
       "      <td>15547</td>\n",
       "    </tr>\n",
       "  </tbody>\n",
       "</table>\n",
       "</div>"
      ],
      "text/plain": [
       "            mean       std  count\n",
       "Gender                           \n",
       "0       7.596645  1.487053  12354\n",
       "1       7.703352  1.455906  15547"
      ]
     },
     "execution_count": 73,
     "metadata": {},
     "output_type": "execute_result"
    }
   ],
   "source": [
    "stats=df2.groupby(['Gender'])['CGPA'].agg(['mean', 'std', 'count'])\n",
    "stats"
   ]
  },
  {
   "cell_type": "markdown",
   "metadata": {},
   "source": [
    "**Chú thích**:  \n",
    "+ False là Female\n",
    "+ True là Male"
   ]
  },
  {
   "cell_type": "markdown",
   "metadata": {},
   "source": [
    "Ta thấy có sự khác biệt về điểm số giữa học sinh, sinh viên nữ và nam. Để kiểm định vấn đề này, ta sẽ sử dụng t-test với mức ý nghĩa alpha là 0.05."
   ]
  },
  {
   "cell_type": "code",
   "execution_count": 74,
   "metadata": {},
   "outputs": [
    {
     "name": "stdout",
     "output_type": "stream",
     "text": [
      "T-statistic: 6.023637126208623\n",
      "P-value: 8.633674457682682e-10\n"
     ]
    }
   ],
   "source": [
    "males= df2[df2['Gender']==1]['CGPA']\n",
    "females= df2[df2['Gender']==0]['CGPA']\n",
    "t_stat, p_value = ttest_ind(males, females, alternative='greater')\n",
    "print(f\"T-statistic: {t_stat}\")\n",
    "print(f\"P-value: {p_value}\")"
   ]
  },
  {
   "cell_type": "markdown",
   "metadata": {},
   "source": [
    "Do giá trị p-value<0.05 nên ta có thể kết luận là điểm trung bình tích lũy của học sinh, sinh viên nam cao hơn nữ"
   ]
  },
  {
   "cell_type": "code",
   "execution_count": 75,
   "metadata": {},
   "outputs": [
    {
     "data": {
      "image/png": "[encoded data removed]",
      "text/plain": [
       "<Figure size 640x480 with 2 Axes>"
      ]
     },
     "metadata": {},
     "output_type": "display_data"
    }
   ],
   "source": [
    "# Create a figure with subplots\n",
    "fig, ax1 = plt.subplots()\n",
    "labels=['Male','Female']\n",
    "counts= stats['count'][::-1]\n",
    "means= stats['mean'][::-1]\n",
    "# Count plot\n",
    "ax1.bar(labels, counts, color='b', alpha=0.6, label='Count')\n",
    "ax1.set_ylabel('# Students', color='b')\n",
    "ax1.tick_params(axis='y', labelcolor='b')\n",
    "\n",
    "# Create a second y-axis for the mean\n",
    "ax2 = ax1.twinx()\n",
    "ax2.plot(labels, means, color='r', marker='o', label='Mean')\n",
    "ax2.set_ylabel('Mean CGPA', color='r')\n",
    "ax2.tick_params(axis='y', labelcolor='r')\n",
    "\n",
    "# Title and legend\n",
    "plt.title('Difference in number of student and mean of CGPA  between Male and Female')\n",
    "ax1.legend(loc='upper left')\n",
    "ax2.legend(loc='upper right')\n",
    "\n",
    "# Show the plot\n",
    "plt.show()"
   ]
  },
  {
   "cell_type": "markdown",
   "metadata": {},
   "source": [
    "##### Ý nghĩa:\n",
    "Có thể lí giải điều này là đất nước Ấn Độ vẫn còn các định kiến và bất bình đẳng xã hội trong giáo dục cho 2 phái nam và nữ. Ví dụ tỉ lệ nhập học của Nam nhiều hơn, điều này cũng được thể hiện trong bảng thống ke mô tả trên, hay sự khác biệt điểm số giữa 2 phái, tuy là khía cạnh này thì ít hơn. "
   ]
  },
  {
   "cell_type": "markdown",
   "metadata": {},
   "source": [
    "## 3. Thời lượng ngủ và các yếu tố liên quan\n",
    "\n",
    "- Câu hỏi: Thời lượng ngủ trung bình có liên quan như thế nào với áp lực học tập (Academic Pressure), áp lực công việc (Work Pressure), và CGPA?\n",
    "- Mục đích: Tìm hiểu xem việc nghỉ ngơi có ảnh hưởng đến áp lực và kết quả học tập hay không."
   ]
  },
  {
   "cell_type": "code",
   "execution_count": 76,
   "metadata": {},
   "outputs": [
    {
     "name": "stdout",
     "output_type": "stream",
     "text": [
      "Dữ liệu cột Work Pressure:\n",
      " 0.0    27898\n",
      "5.0        2\n",
      "2.0        1\n",
      "Name: Work Pressure, dtype: int64\n",
      "Dữ liệu cột Job Satisfaction:\n",
      " 0.0    27893\n",
      "2.0        3\n",
      "4.0        2\n",
      "1.0        2\n",
      "3.0        1\n",
      "Name: Job Satisfaction, dtype: int64\n"
     ]
    }
   ],
   "source": [
    "print('Dữ liệu cột Work Pressure:\\n',df['Work Pressure'].value_counts())\n",
    "print('Dữ liệu cột Job Satisfaction:\\n',df['Job Satisfaction'].value_counts())"
   ]
  },
  {
   "cell_type": "markdown",
   "metadata": {},
   "source": [
    "Hơn 99% giá trị của Work Pressure = 0 làm cho việc kết quả khảo sát ý nghĩa của cột này sẽ không đáng tin cậy nên chúng em không khảo sát trên Work Pressure.  \n",
    "Khi đó câu hỏi còn lại là \"Thời lượng ngủ trung bình có liên quan như thế nào với áp lực học tập (Academic Pressure), và CGPA?\""
   ]
  },
  {
   "cell_type": "code",
   "execution_count": 77,
   "metadata": {},
   "outputs": [
    {
     "data": {
      "text/plain": [
       "Less than 5 hours    8310\n",
       "7-8 hours            7346\n",
       "5-6 hours            6183\n",
       "More than 8 hours    6044\n",
       "Others                 18\n",
       "Name: Sleep Duration, dtype: int64"
      ]
     },
     "execution_count": 77,
     "metadata": {},
     "output_type": "execute_result"
    }
   ],
   "source": [
    "df['Sleep Duration'].value_counts()"
   ]
  },
  {
   "cell_type": "markdown",
   "metadata": {},
   "source": [
    "Dữ liệu của lớp Others rất ít so với các lớp còn lại khiến cho kết luận đưa ra trên lớp này sẽ không đáng tin cậy. Do đó, chúng em sẽ chỉ khảo sát trên 4 lớp còn lại"
   ]
  },
  {
   "cell_type": "code",
   "execution_count": 78,
   "metadata": {},
   "outputs": [],
   "source": [
    "df3= df[df['Sleep Duration']!='Others']"
   ]
  },
  {
   "cell_type": "markdown",
   "metadata": {},
   "source": [
    "#### Xét mối liên hệ giữa thời lượng ngủ và áp lực học tập\n"
   ]
  },
  {
   "cell_type": "code",
   "execution_count": 79,
   "metadata": {},
   "outputs": [
    {
     "data": {
      "text/html": [
       "<div>\n",
       "<style scoped>\n",
       "    .dataframe tbody tr th:only-of-type {\n",
       "        vertical-align: middle;\n",
       "    }\n",
       "\n",
       "    .dataframe tbody tr th {\n",
       "        vertical-align: top;\n",
       "    }\n",
       "\n",
       "    .dataframe thead th {\n",
       "        text-align: right;\n",
       "    }\n",
       "</style>\n",
       "<table border=\"1\" class=\"dataframe\">\n",
       "  <thead>\n",
       "    <tr style=\"text-align: right;\">\n",
       "      <th></th>\n",
       "      <th>mean</th>\n",
       "      <th>std</th>\n",
       "      <th>count</th>\n",
       "    </tr>\n",
       "    <tr>\n",
       "      <th>Sleep Duration</th>\n",
       "      <th></th>\n",
       "      <th></th>\n",
       "      <th></th>\n",
       "    </tr>\n",
       "  </thead>\n",
       "  <tbody>\n",
       "    <tr>\n",
       "      <th>Less than 5 hours</th>\n",
       "      <td>3.228520</td>\n",
       "      <td>1.380409</td>\n",
       "      <td>8310</td>\n",
       "    </tr>\n",
       "    <tr>\n",
       "      <th>5-6 hours</th>\n",
       "      <td>3.120653</td>\n",
       "      <td>1.368878</td>\n",
       "      <td>6183</td>\n",
       "    </tr>\n",
       "    <tr>\n",
       "      <th>7-8 hours</th>\n",
       "      <td>3.135584</td>\n",
       "      <td>1.367271</td>\n",
       "      <td>7346</td>\n",
       "    </tr>\n",
       "    <tr>\n",
       "      <th>More than 8 hours</th>\n",
       "      <td>3.048974</td>\n",
       "      <td>1.407146</td>\n",
       "      <td>6044</td>\n",
       "    </tr>\n",
       "  </tbody>\n",
       "</table>\n",
       "</div>"
      ],
      "text/plain": [
       "                       mean       std  count\n",
       "Sleep Duration                              \n",
       "Less than 5 hours  3.228520  1.380409   8310\n",
       "5-6 hours          3.120653  1.368878   6183\n",
       "7-8 hours          3.135584  1.367271   7346\n",
       "More than 8 hours  3.048974  1.407146   6044"
      ]
     },
     "execution_count": 79,
     "metadata": {},
     "output_type": "execute_result"
    }
   ],
   "source": [
    "stats=df3.groupby(['Sleep Duration'])['Academic Pressure'].agg(['mean','std','count'])\n",
    "stats.loc[['Less than 5 hours','5-6 hours','7-8 hours','More than 8 hours']]"
   ]
  },
  {
   "cell_type": "markdown",
   "metadata": {},
   "source": [
    "Có thể nhận xét rằng xu hướng chung là ngủ càng nhiều thì áp lực học tập giảm xuống ít.   \n",
    "\n",
    "Áp lực giảm mạnh (0.1), từ nhóm 1 xuống nhóm 2, nhóm 2 và nhóm 3 gần bằng nhau và giảm mạnh lần nữa (0.09) khi qua nhóm 4.  \n",
    "\n",
    "Sự biến đổi của nhóm 1 và nhóm 4 khá rõ rệt nên ta sẽ thử kiểm định t-test liệu trung bình của nhóm thứ 2 lại thấp hơn nhóm thứ 3 không với mức ý nghĩa 0.05"
   ]
  },
  {
   "cell_type": "code",
   "execution_count": 80,
   "metadata": {},
   "outputs": [
    {
     "name": "stdout",
     "output_type": "stream",
     "text": [
      "T-statistic: -0.63238464108118\n",
      "P-value: 0.736426871969069\n"
     ]
    }
   ],
   "source": [
    "d2=df3[df3['Sleep Duration']=='5-6 hours']['Academic Pressure']\n",
    "d3=df3[df3['Sleep Duration']=='7-8 hours']['Academic Pressure']\n",
    "t_stat, p_value = ttest_ind(d2, d3, alternative='greater')\n",
    "print(f\"T-statistic: {t_stat}\")\n",
    "print(f\"P-value: {p_value}\")"
   ]
  },
  {
   "cell_type": "markdown",
   "metadata": {},
   "source": [
    "p-value không nhỏ hơn 0.05 nên không thể bác bỏ giả thuyết giá trị trung bình của 2 nhóm là bằng nhau.\n",
    "\n",
    "Vậy khẳng định xu hướng chung là ngủ nhiều thì áp lực học tập sẽ hầu như là giảm."
   ]
  },
  {
   "cell_type": "code",
   "execution_count": 81,
   "metadata": {},
   "outputs": [
    {
     "data": {
      "image/png": "[encoded data removed]",
      "text/plain": [
       "<Figure size 640x480 with 1 Axes>"
      ]
     },
     "metadata": {},
     "output_type": "display_data"
    }
   ],
   "source": [
    "labels=['Less than 5 hours','5-6 hours','7-8 hours','More than 8 hours']\n",
    "means = stats.loc[labels]['mean']\n",
    "\n",
    "# Create a dot plot\n",
    "plt.plot(labels, means, 'o', color='blue', markersize=10)\n",
    "plt.title('Mean Academic Pressure by Sleep Duration')\n",
    "plt.ylim(3,3.5)  \n",
    "plt.grid()\n",
    "\n",
    "plt.show()"
   ]
  },
  {
   "cell_type": "markdown",
   "metadata": {},
   "source": [
    "#### Xét mối liên hệ giữa thời lượng giấc ngủ và điểm số"
   ]
  },
  {
   "cell_type": "code",
   "execution_count": 82,
   "metadata": {},
   "outputs": [
    {
     "data": {
      "text/html": [
       "<div>\n",
       "<style scoped>\n",
       "    .dataframe tbody tr th:only-of-type {\n",
       "        vertical-align: middle;\n",
       "    }\n",
       "\n",
       "    .dataframe tbody tr th {\n",
       "        vertical-align: top;\n",
       "    }\n",
       "\n",
       "    .dataframe thead th {\n",
       "        text-align: right;\n",
       "    }\n",
       "</style>\n",
       "<table border=\"1\" class=\"dataframe\">\n",
       "  <thead>\n",
       "    <tr style=\"text-align: right;\">\n",
       "      <th></th>\n",
       "      <th>mean</th>\n",
       "      <th>std</th>\n",
       "      <th>count</th>\n",
       "    </tr>\n",
       "    <tr>\n",
       "      <th>Sleep Duration</th>\n",
       "      <th></th>\n",
       "      <th></th>\n",
       "      <th></th>\n",
       "    </tr>\n",
       "  </thead>\n",
       "  <tbody>\n",
       "    <tr>\n",
       "      <th>Less than 5 hours</th>\n",
       "      <td>7.640473</td>\n",
       "      <td>1.463252</td>\n",
       "      <td>8310</td>\n",
       "    </tr>\n",
       "    <tr>\n",
       "      <th>5-6 hours</th>\n",
       "      <td>7.688737</td>\n",
       "      <td>1.448295</td>\n",
       "      <td>6183</td>\n",
       "    </tr>\n",
       "    <tr>\n",
       "      <th>7-8 hours</th>\n",
       "      <td>7.686127</td>\n",
       "      <td>1.483631</td>\n",
       "      <td>7346</td>\n",
       "    </tr>\n",
       "    <tr>\n",
       "      <th>More than 8 hours</th>\n",
       "      <td>7.607902</td>\n",
       "      <td>1.486312</td>\n",
       "      <td>6044</td>\n",
       "    </tr>\n",
       "  </tbody>\n",
       "</table>\n",
       "</div>"
      ],
      "text/plain": [
       "                       mean       std  count\n",
       "Sleep Duration                              \n",
       "Less than 5 hours  7.640473  1.463252   8310\n",
       "5-6 hours          7.688737  1.448295   6183\n",
       "7-8 hours          7.686127  1.483631   7346\n",
       "More than 8 hours  7.607902  1.486312   6044"
      ]
     },
     "execution_count": 82,
     "metadata": {},
     "output_type": "execute_result"
    }
   ],
   "source": [
    "stats=df3.groupby(['Sleep Duration'])['CGPA'].agg(['mean','std','count'])\n",
    "stats.loc[['Less than 5 hours','5-6 hours','7-8 hours','More than 8 hours']]"
   ]
  },
  {
   "cell_type": "markdown",
   "metadata": {},
   "source": [
    "Có thể nhận xét rằng xu hướng chung là ngủ ít quá hoặc nhiều quá thì điểm CGPA sẽ thấp hơn so với những người ngủ đủ.   \n",
    "\n",
    "Điểm tăng 0.04, từ nhóm 1 xuống nhóm 2, nhóm 2 và nhóm 3 gần bằng nhau và giảm 0.08, khi qua nhóm 4.  \n",
    "\n",
    "Sự cách biệt giữa nhóm 2 và 3 với nhóm 1 và 4 khá rõ rệt nên  \n",
    " ta sẽ chỉ thử kiểm định t-test với mức ý nghĩa 0.05 xem nhóm 2 hay nhóm 3 có điểm CGPA cao hơn"
   ]
  },
  {
   "cell_type": "code",
   "execution_count": 83,
   "metadata": {},
   "outputs": [
    {
     "name": "stdout",
     "output_type": "stream",
     "text": [
      "T-statistic: 0.10303420052760112\n",
      "P-value: 0.4589686773198591\n"
     ]
    }
   ],
   "source": [
    "d2=df3[df3['Sleep Duration']=='5-6 hours']['CGPA']\n",
    "d3=df3[df3['Sleep Duration']=='7-8 hours']['CGPA']\n",
    "t_stat, p_value = ttest_ind(d2, d3, alternative='greater')\n",
    "print(f\"T-statistic: {t_stat}\")\n",
    "print(f\"P-value: {p_value}\")"
   ]
  },
  {
   "cell_type": "markdown",
   "metadata": {},
   "source": [
    "Do giá trị p-value rất lớn nên ta không thể bác bỏ giả thuyết rằng CGPA của 2 nhóm này bằng nhau.\n",
    "\n",
    "Vậy có thể khẳng định rằng nếu ngủ từ khoảng 5 tới 8 tiếng một ngày thì CGPA sẽ tốt nhất. Ngủ nhiều hơn hoặc ít hơn thời gian này đều sẽ làm giảm CGPA"
   ]
  },
  {
   "cell_type": "code",
   "execution_count": 84,
   "metadata": {},
   "outputs": [
    {
     "data": {
      "image/png": "[encoded data removed]",
      "text/plain": [
       "<Figure size 640x480 with 1 Axes>"
      ]
     },
     "metadata": {},
     "output_type": "display_data"
    }
   ],
   "source": [
    "labels=['Less than 5 hours','5-6 hours','7-8 hours','More than 8 hours']\n",
    "means = stats.loc[labels]['mean']\n",
    "\n",
    "# Create a dot plot\n",
    "plt.plot(labels, means, 'o', color='blue', markersize=10)\n",
    "plt.title('Mean CGPA of Academic Pressure by Sleep Duration')\n",
    "plt.ylim(7.5,7.8)\n",
    "plt.grid()\n",
    "\n",
    "plt.show()"
   ]
  },
  {
   "cell_type": "markdown",
   "metadata": {},
   "source": [
    "##### Ý nghĩa:\n",
    "+ Học sinh, sinh viên đạt CGPA tốt nhất khi ngủ đủ giấc từ 5-8 tiếng.\n",
    "+ Học sinh, sinh viên càng ngủ nhiều tinh thần càng khuây khỏa, dẫn đến áp lực học tập càng giảm"
   ]
  },
  {
   "cell_type": "markdown",
   "metadata": {},
   "source": [
    "## 4. Bằng cấp có ảnh hưởng thế nào tới thói quen ăn uống\n",
    "- Câu hỏi: Bằng cấp (Degree) có ảnh hưởng như thế nào đến thói quen ăn uống (Dietary Habits) và thời gian làm việc/học tập (Work/Study Hours)?\n",
    "- Mục đích: Tìm hiểu liệu sinh viên ở các trình độ học vấn khác nhau có đặc điểm khác biệt trong thói quen ăn uống và số giờ làm việc/học tập hay không. Điều này giúp khám phá mối quan hệ giữa trình độ học vấn và lối sống của sinh viên."
   ]
  },
  {
   "cell_type": "code",
   "execution_count": 85,
   "metadata": {},
   "outputs": [
    {
     "data": {
      "text/plain": [
       "Index(['B.Arch', 'B.Com', 'B.Ed', 'B.Pharm', 'B.Tech', 'BA', 'BBA', 'BCA',\n",
       "       'BE', 'BHM', 'BSc', 'Class 12', 'LLB', 'LLM', 'M.Com', 'M.Ed',\n",
       "       'M.Pharm', 'M.Tech', 'MA', 'MBA', 'MBBS', 'MCA', 'MD', 'ME', 'MHM',\n",
       "       'MSc', 'Others', 'PhD'],\n",
       "      dtype='object', name='Degree')"
      ]
     },
     "execution_count": 85,
     "metadata": {},
     "output_type": "execute_result"
    }
   ],
   "source": [
    "df.groupby(['Degree'])['Dietary Habits'].apply(list).index"
   ]
  },
  {
   "cell_type": "markdown",
   "metadata": {},
   "source": [
    "Dễ thấy có 4 nhóm trong các dạng Degree: học sinh, cử nhân, thạc sĩ, tiến sĩ. Khi đó ta sẽ tách ra và phân tích"
   ]
  },
  {
   "cell_type": "code",
   "execution_count": 86,
   "metadata": {},
   "outputs": [
    {
     "name": "stdout",
     "output_type": "stream",
     "text": [
      "Degree_Group\n",
      "Cử nhân     [Healthy, Moderate, Healthy, Moderate, Healthy...\n",
      "Học sinh    [Unhealthy, Moderate, Unhealthy, Moderate, Hea...\n",
      "Thạc sĩ     [Moderate, Moderate, Moderate, Unhealthy, Mode...\n",
      "Tiến sĩ     [Healthy, Healthy, Healthy, Moderate, Moderate...\n",
      "Name: Dietary Habits, dtype: object\n"
     ]
    }
   ],
   "source": [
    "df_copy=pd.DataFrame(df)\n",
    "degree_mapping = {\n",
    "    'Class 12': 'Học sinh',\n",
    "    'B.Arch': 'Cử nhân', 'B.Com': 'Cử nhân', 'B.Ed': 'Cử nhân', 'B.Pharm': 'Cử nhân', 'B.Tech': 'Cử nhân', 'BA': 'Cử nhân', 'BBA': 'Cử nhân', 'BCA': 'Cử nhân', 'BE': 'Cử nhân', 'BHM': 'Cử nhân', 'BSc': 'Cử nhân',\n",
    "    'M.Com': 'Thạc sĩ', 'M.Ed': 'Thạc sĩ', 'M.Pharm': 'Thạc sĩ', 'M.Tech': 'Thạc sĩ', 'MA': 'Thạc sĩ', 'MBA': 'Thạc sĩ', 'MCA': 'Thạc sĩ', 'MD': 'Thạc sĩ', 'ME': 'Thạc sĩ', 'MHM': 'Thạc sĩ', 'MSc': 'Thạc sĩ',\n",
    "    'PhD': 'Tiến sĩ',\n",
    "    'LLB': 'Cử nhân', 'LLM': 'Thạc sĩ'\n",
    "}\n",
    "df_copy['Degree_Group'] = df_copy['Degree'].map(degree_mapping)\n",
    "grouped_data = df_copy.groupby('Degree_Group')['Dietary Habits'].apply(list)\n",
    "print(grouped_data)"
   ]
  },
  {
   "cell_type": "code",
   "execution_count": 87,
   "metadata": {},
   "outputs": [
    {
     "name": "stdout",
     "output_type": "stream",
     "text": [
      "                  mean       std\n",
      "Degree_Group                    \n",
      "Cử nhân       1.904291  0.790114\n",
      "Học sinh      1.857871  0.798073\n",
      "Thạc sĩ       1.933375  0.804676\n",
      "Tiến sĩ       1.892720  0.814919\n"
     ]
    }
   ],
   "source": [
    "dietary_mapping = {'Healthy': 3, 'Moderate': 2, 'Unhealthy': 1}  #quy đổi ra điểm, điểm càng cao thì có thể xem như Dietary Habits càng tốt cho sức khỏekhỏe\n",
    "df_copy['Dietary_Habits_Mapped'] = df_copy['Dietary Habits'].map(dietary_mapping)\n",
    "grouped_stats = df_copy.groupby('Degree_Group')['Dietary_Habits_Mapped'].agg(['mean', 'std'])\n",
    "print(grouped_stats)"
   ]
  },
  {
   "cell_type": "code",
   "execution_count": 88,
   "metadata": {},
   "outputs": [
    {
     "data": {
      "image/png": "[encoded data removed]",
      "text/plain": [
       "<Figure size 1000x600 with 1 Axes>"
      ]
     },
     "metadata": {},
     "output_type": "display_data"
    }
   ],
   "source": [
    "plt.figure(figsize=(10, 6))\n",
    "sns.barplot(x='Degree_Group', y='Dietary_Habits_Mapped', data=df_copy, estimator='mean', ci=None, palette='muted')\n",
    "plt.title('Barplot của Thói quen ăn uống theo Bằng cấp')\n",
    "plt.xlabel('Bằng cấp')\n",
    "plt.ylim(1.8,2)\n",
    "plt.ylabel('Điểm trung bình thói quen ăn uống')\n",
    "plt.show()"
   ]
  },
  {
   "cell_type": "markdown",
   "metadata": {},
   "source": [
    "Nhận xét về kết quả:  \n",
    "- Nhóm Thạc sĩ có giá trị trung bình cao nhất, điều này có thể gợi ý rằng thói quen ăn uống của các nhóm Thạc sĩ và Cử nhân có xu hướng tốt hơn so với các nhóm Học sinh và Tiến sĩ.  \n",
    "- Tiến sĩ có độ lệch chuẩn cao nhất (0.814919), cho thấy sự đa dạng lớn hơn trong thói quen ăn uống.  \n",
    "- Cử nhân và Thạc sĩ có độ lệch chuẩn tương đối thấp hơn (0.790114 và 0.804676), chỉ ra rằng sự đa dạng trong thói quen ăn uống là khá đồng đều trong các nhóm này.  \n",
    "- Học sinh có độ lệch chuẩn thấp nhất (0.798073), cho thấy sự đồng nhất trong thói quen ăn uống của nhóm này.  \n",
    "\n",
    "Kết luận:  \n",
    "- Các nhóm có độ lệch chuẩn cao như Tiến sĩ có thể phản ánh rằng thói quen ăn uống của nhóm này có sự phân hóa rõ rệt, có thể do yếu tố công việc, thời gian và căng thẳng trong học tập hoặc nghề nghiệp.  \n",
    "- Các nhóm như Cử nhân, Thạc sĩ, có độ lệch chuẩn thấp hơn có thể phản ánh sự đồng điệu trong chế độ ăn uống.  "
   ]
  },
  {
   "cell_type": "code",
   "execution_count": 89,
   "metadata": {},
   "outputs": [
    {
     "name": "stdout",
     "output_type": "stream",
     "text": [
      "T-statistic: 0.3274555642541373\n",
      "P-value: 0.7433285583339297\n",
      "T-statistic: 0.955792066191745\n",
      "P-value: 0.3392123092383901\n",
      "T-statistic: -5.52312391597568\n",
      "P-value: 3.389596599242119e-08\n",
      "T-statistic: 3.7513620184930816\n",
      "P-value: 0.0001764071770975375\n",
      "T-statistic: -1.117208812179462\n",
      "P-value: 0.26393683658222516\n",
      "T-statistic: -2.550578037198615\n",
      "P-value: 0.010761628956222355\n"
     ]
    }
   ],
   "source": [
    "from scipy import stats\n",
    "group_1 = df_copy[df_copy['Degree_Group'] == 'Cử nhân']['Dietary_Habits_Mapped']\n",
    "group_2 = df_copy[df_copy['Degree_Group'] == 'Tiến sĩ']['Dietary_Habits_Mapped']\n",
    "group_3 = df_copy[df_copy['Degree_Group'] == 'Học sinh']['Dietary_Habits_Mapped']\n",
    "group_4 = df_copy[df_copy['Degree_Group'] == 'Thạc sĩ']['Dietary_Habits_Mapped']\n",
    "\n",
    "group_1_clean = group_1.dropna()\n",
    "group_2_clean = group_2.dropna()\n",
    "group_3_clean = group_3.dropna()\n",
    "group_4_clean = group_4.dropna()\n",
    "\n",
    "t_stat, p_value_ttest = stats.ttest_ind(group_1_clean, group_2_clean)\n",
    "print(f'T-statistic: {t_stat}')\n",
    "print(f'P-value: {p_value_ttest}')\n",
    "\n",
    "t_stat, p_value_ttest = stats.ttest_ind(group_2_clean, group_3_clean)\n",
    "print(f'T-statistic: {t_stat}')\n",
    "print(f'P-value: {p_value_ttest}')\n",
    "\n",
    "t_stat, p_value_ttest = stats.ttest_ind(group_3_clean, group_4_clean)\n",
    "print(f'T-statistic: {t_stat}')\n",
    "print(f'P-value: {p_value_ttest}')\n",
    "\n",
    "t_stat, p_value_ttest = stats.ttest_ind(group_1_clean, group_3_clean)\n",
    "print(f'T-statistic: {t_stat}')\n",
    "print(f'P-value: {p_value_ttest}')\n",
    "\n",
    "t_stat, p_value_ttest = stats.ttest_ind(group_2_clean, group_4_clean)\n",
    "print(f'T-statistic: {t_stat}')\n",
    "print(f'P-value: {p_value_ttest}')\n",
    "\n",
    "t_stat, p_value_ttest = stats.ttest_ind(group_1_clean, group_4_clean)\n",
    "print(f'T-statistic: {t_stat}')\n",
    "print(f'P-value: {p_value_ttest}')"
   ]
  },
  {
   "cell_type": "markdown",
   "metadata": {},
   "source": [
    "### Kết quả phân tích so sánh nhóm  \n",
    "\n",
    "Dễ thấy có ba kết quả có \\( P \\)-value < 0.05  \n",
    "\n",
    "---\n",
    "\n",
    "#### So sánh Học sinh và Thạc sĩ  \n",
    "- **T-statistic**: -5.523  \n",
    "- **P-value**: 3.39 × 10^-8 (≈ 0)\n",
    "\n",
    "**Kết luận**:  \n",
    "Có sự khác biệt rất đáng kể giữa thói quen ăn uống của nhóm **Học sinh** và **Thạc sĩ** (\\( P \\)-value < 0.001).  \n",
    "Giá trị âm của T-statistic cho thấy **Học sinh** có trung bình thấp hơn **Thạc sĩ**.  \n",
    "\n",
    "---\n",
    "\n",
    "#### So sánh Cử nhân và Học sinh  \n",
    "- **T-statistic**: 3.751  \n",
    "- **P-value**: 0.000176  \n",
    "\n",
    "**Kết luận**:  \n",
    "Có sự khác biệt rất đáng kể giữa thói quen ăn uống của nhóm **Cử nhân** và **Học sinh** (\\( P \\)-value < 0.001).  \n",
    "Giá trị dương của T-statistic cho thấy **Cử nhân** có trung bình cao hơn **Học sinh**.  \n",
    "\n",
    "---\n",
    "\n",
    "#### So sánh Tiến sĩ và Thạc sĩ  \n",
    "- **T-statistic**: -2.551  \n",
    "- **P-value**: 0.0108  \n",
    "\n",
    "**Kết luận**:  \n",
    "Có sự khác biệt đáng kể giữa thói quen ăn uống của nhóm **Tiến sĩ** và **Thạc sĩ** (\\( P \\)-value < 0.05).  \n",
    "Giá trị âm của T-statistic cho thấy **Tiến sĩ** có trung bình thấp hơn **Thạc sĩ**.  \n",
    "\n",
    "---\n",
    "\n",
    "### Nhận xét:  \n",
    "- Nhóm **Học sinh** có sự khác biệt đáng kể trong thói quen ăn uống so với các nhóm còn lại, đặc biệt thấp hơn rõ rệt so với **Thạc sĩ**.  \n",
    "- Nhóm **Cử nhân** và **Tiến sĩ** không có sự khác biệt đáng kể.  \n",
    "- **Cử nhân** có xu hướng thấp hơn **Thạc sĩ**, nhưng khác biệt này không rõ rệt như giữa **Học sinh** và **Thạc sĩ**.  \n"
   ]
  },
  {
   "cell_type": "markdown",
   "metadata": {},
   "source": [
    "## 5. Tương quan giữa thời gian làm việc/học tập và sức khỏe tinh thần  \n",
    "- Câu hỏi: Thời gian làm việc/học tập (Work/Study Hours) có ảnh hưởng như thế nào đến việc xuất hiện suy nghĩ tự tử (Have you ever had suicidal thoughts?) hoặc tình trạng trầm cảm (Depression)?  \n",
    "- Mục đích: Hiểu rõ tác động của thời gian học tập hoặc làm việc kéo dài lên sức khỏe tinh thần của sinh viên.  "
   ]
  },
  {
   "cell_type": "code",
   "execution_count": 90,
   "metadata": {},
   "outputs": [
    {
     "data": {
      "text/html": [
       "<div>\n",
       "<style scoped>\n",
       "    .dataframe tbody tr th:only-of-type {\n",
       "        vertical-align: middle;\n",
       "    }\n",
       "\n",
       "    .dataframe tbody tr th {\n",
       "        vertical-align: top;\n",
       "    }\n",
       "\n",
       "    .dataframe thead th {\n",
       "        text-align: right;\n",
       "    }\n",
       "</style>\n",
       "<table border=\"1\" class=\"dataframe\">\n",
       "  <thead>\n",
       "    <tr style=\"text-align: right;\">\n",
       "      <th></th>\n",
       "      <th>Mean Work/Study Hours</th>\n",
       "      <th>Std Work/Study Hours</th>\n",
       "    </tr>\n",
       "    <tr>\n",
       "      <th>Suicidal_Thoughts</th>\n",
       "      <th></th>\n",
       "      <th></th>\n",
       "    </tr>\n",
       "  </thead>\n",
       "  <tbody>\n",
       "    <tr>\n",
       "      <th>No</th>\n",
       "      <td>6.566520</td>\n",
       "      <td>3.835676</td>\n",
       "    </tr>\n",
       "    <tr>\n",
       "      <th>Yes</th>\n",
       "      <td>7.499604</td>\n",
       "      <td>3.587100</td>\n",
       "    </tr>\n",
       "  </tbody>\n",
       "</table>\n",
       "</div>"
      ],
      "text/plain": [
       "                   Mean Work/Study Hours  Std Work/Study Hours\n",
       "Suicidal_Thoughts                                             \n",
       "No                              6.566520              3.835676\n",
       "Yes                             7.499604              3.587100"
      ]
     },
     "execution_count": 90,
     "metadata": {},
     "output_type": "execute_result"
    }
   ],
   "source": [
    "df['Suicidal_Thoughts'] = df['Have you ever had suicidal thoughts ?'].map({'Yes': 1, 'No': 0})\n",
    "df = df.dropna(subset=['Work/Study Hours', 'Suicidal_Thoughts'])\n",
    "mean_hours = df.groupby('Suicidal_Thoughts')['Work/Study Hours'].mean()\n",
    "std_hours = df.groupby('Suicidal_Thoughts')['Work/Study Hours'].std()\n",
    "result = pd.DataFrame({\n",
    "    'Mean Work/Study Hours': mean_hours,\n",
    "    'Std Work/Study Hours': std_hours\n",
    "})\n",
    "result.index = result.index.map({1: 'Yes', 0: 'No'}) \n",
    "result"
   ]
  },
  {
   "cell_type": "markdown",
   "metadata": {},
   "source": [
    "#### Nhận xét:  \n",
    "\n",
    "Nhóm có suy nghĩ tự tử dành nhiều thời gian học tập/làm việc hơn nhóm không có suy nghĩ tự tử.  \n",
    "Độ lệch chuẩn ở cả hai nhóm là tương đối gần nhau, cho thấy phân phối của thời gian học tập/làm việc khá đồng nhất trong mỗi nhóm.  \n"
   ]
  },
  {
   "cell_type": "code",
   "execution_count": 91,
   "metadata": {},
   "outputs": [
    {
     "data": {
      "image/png": "[encoded data removed]",
      "text/plain": [
       "<Figure size 1200x600 with 1 Axes>"
      ]
     },
     "metadata": {},
     "output_type": "display_data"
    }
   ],
   "source": [
    "plt.figure(figsize=(12, 6))\n",
    "plt.subplot(1, 2, 1)\n",
    "sns.boxplot(x='Suicidal_Thoughts', y='Work/Study Hours', data=df, palette=\"Set2\")\n",
    "plt.xticks([0, 1], ['No', 'Yes'])\n",
    "plt.title(\"Phân phối thời gian học tập/làm việc theo suy nghĩ tự tử\")\n",
    "plt.xlabel(\"Có suy nghĩ tự tử\")\n",
    "plt.ylabel(\"Thời gian học tập/làm việc (giờ)\")\n",
    "plt.show()"
   ]
  },
  {
   "cell_type": "code",
   "execution_count": 92,
   "metadata": {},
   "outputs": [
    {
     "name": "stdout",
     "output_type": "stream",
     "text": [
      "T-statistic: 20.414\n",
      "P-value: 2.9572539285256123e-92\n"
     ]
    }
   ],
   "source": [
    "group_yes = df[df['Suicidal_Thoughts'] == 1]['Work/Study Hours']\n",
    "group_no = df[df['Suicidal_Thoughts'] == 0]['Work/Study Hours']\n",
    "t_stat, p_value = ttest_ind(group_yes, group_no, alternative='greater')  # 'greater' vì giả thuyết đối là nhóm \"Yes\" cao hơn\n",
    "print(f\"T-statistic: {t_stat:.3f}\")\n",
    "print(f\"P-value: {p_value}\")"
   ]
  },
  {
   "cell_type": "code",
   "execution_count": 93,
   "metadata": {},
   "outputs": [],
   "source": [
    "df.drop(columns=['Suicidal_Thoughts'], inplace=True)"
   ]
  },
  {
   "cell_type": "markdown",
   "metadata": {},
   "source": [
    "#### 2. Biểu đồ minh họa  \n",
    "\n",
    "##### Boxplot:  \n",
    "\n",
    "- Nhóm có suy nghĩ tự tử (Yes) có thời gian học tập/làm việc tập trung cao hơn so với nhóm không có suy nghĩ tự tử.  \n",
    "- Phân phối thời gian học tập/làm việc trong nhóm có suy nghĩ tự tử rộng hơn ở mức trung bình cao hơn.  \n",
    "\n",
    "##### Kết luận:  \n",
    "\n",
    "- Nhóm có suy nghĩ tự tử dành nhiều thời gian học tập/làm việc hơn so với nhóm không có suy nghĩ tự tử.  \n",
    "- Kết quả từ kiểm định thống kê (p_value<0.05) cho thấy sự khác biệt này là có ý nghĩa thống kê.  \n",
    "- Thời gian học tập/làm việc có thể là một yếu tố góp phần gây căng thẳng và ảnh hưởng đến sức khỏe tinh thần, dẫn đến suy nghĩ tiêu cực ở nhóm đối tượng.  "
   ]
  },
  {
   "cell_type": "markdown",
   "metadata": {},
   "source": [
    "## 6. Thói quen ăn uống và sức khỏe tinh thần:\n",
    "- Câu hỏi: Thói quen ăn uống (Dietary Habits) có liên quan đến sự hài lòng trong học tập như thế nào?  \n",
    "- Mục đích: Xem dinh dưỡng có đóng vai trò hỗ trợ trạng thái tinh thần và chất lượng cuộc sống hay không."
   ]
  },
  {
   "cell_type": "code",
   "execution_count": 94,
   "metadata": {},
   "outputs": [
    {
     "name": "stdout",
     "output_type": "stream",
     "text": [
      "Index(['Healthy', 'Moderate', 'Others', 'Unhealthy'], dtype='object', name='Dietary Habits')\n",
      "                    mean       std    count\n",
      "Dietary Habits                             \n",
      "Healthy         2.998954  1.361179   7651.0\n",
      "Moderate        2.919968  1.377909   9921.0\n",
      "Others          3.416667  1.443376     12.0\n",
      "Unhealthy       2.925366  1.343653  10317.0\n"
     ]
    }
   ],
   "source": [
    "data6 = df.groupby(['Dietary Habits'])['Study Satisfaction'].apply(list)\n",
    "stats_res = data6.apply(lambda x: pd.Series({\n",
    "    'mean': pd.Series(x).mean(),\n",
    "    'std': pd.Series(x).std(),\n",
    "    'count': len(x)\n",
    "}))\n",
    "print(stats_res.index)\n",
    "print(stats_res)"
   ]
  },
  {
   "cell_type": "markdown",
   "metadata": {},
   "source": [
    "- Healthy (mean=2.999) có mức độ hài lòng cao hơn một chút so với Moderate (2.920) và Unhealthy (2.925), nhưng sự khác biệt rất nhỏ.\n",
    "- Others (mean=3.417) có giá trị trung bình hài lòng cao hơn so với các nhóm khác, tuy nhiên số lượng quan sát (count = 12) là rất nhỏ, dẫn đến kết quả có thể không đại diện.\n",
    "- Độ lệch chuẩn (std) dao động từ khoảng 1.34 đến 1.44, cho thấy mức độ phân tán giữa các nhóm là tương đối giống nhau."
   ]
  },
  {
   "cell_type": "code",
   "execution_count": 95,
   "metadata": {},
   "outputs": [
    {
     "data": {
      "image/png": "[encoded data removed]",
      "text/plain": [
       "<Figure size 800x600 with 1 Axes>"
      ]
     },
     "metadata": {},
     "output_type": "display_data"
    }
   ],
   "source": [
    "stats_filtered = stats_res.drop('Others') #bỏ other vì other không có nhiều ý nghĩa trong việc so sánh trung bình\n",
    "plt.figure(figsize=(8, 6))\n",
    "plt.bar(stats_filtered.index, stats_filtered['mean'], color=['blue', 'orange', 'green'])\n",
    "plt.title('Mean of Dietary Habits (Healthy, Moderate, Unhealthy)')\n",
    "plt.xlabel('Dietary Habits')\n",
    "plt.ylabel('Mean')\n",
    "plt.ylim(2.9,3)\n",
    "plt.show()"
   ]
  },
  {
   "cell_type": "code",
   "execution_count": 96,
   "metadata": {},
   "outputs": [
    {
     "name": "stdout",
     "output_type": "stream",
     "text": [
      "\n",
      "P-value (ANOVA): 0.00015838914405676315\n"
     ]
    }
   ],
   "source": [
    "data6.pop('Others')\n",
    "anova_data = [x for x in data6]\n",
    "anova_result = f_oneway(*anova_data)\n",
    "print(\"\\nP-value (ANOVA):\", anova_result.pvalue)"
   ]
  },
  {
   "cell_type": "markdown",
   "metadata": {},
   "source": [
    "- P-value = 0.0001515, nhỏ hơn mức ý nghĩa thông thường (0.05).\n",
    "Điều này cho thấy rằng có sự khác biệt có ý nghĩa thống kê giữa trung bình mức độ hài lòng của ít nhất một nhóm Dietary Habits (Nhìn vào biểu đồ trên thì có lẽ nhóm đó là healthy)"
   ]
  },
  {
   "cell_type": "code",
   "execution_count": 97,
   "metadata": {},
   "outputs": [
    {
     "data": {
      "image/png": "[encoded data removed]",
      "text/plain": [
       "<Figure size 800x500 with 1 Axes>"
      ]
     },
     "metadata": {},
     "output_type": "display_data"
    }
   ],
   "source": [
    "plt.figure(figsize=(8, 5))\n",
    "plt.boxplot(data6, labels=data6.index)  \n",
    "plt.title('Study Satisfaction by Dietary Habits')\n",
    "plt.xlabel('Dietary Habits')\n",
    "plt.ylabel('Study Satisfaction')\n",
    "plt.show()"
   ]
  },
  {
   "cell_type": "markdown",
   "metadata": {},
   "source": [
    "### Nhận xét: \n",
    "- Mức độ hài lòng (Study Satisfaction) ở cả ba nhóm này khá tương đồng.  \n",
    "- Median (giá trị trung vị) của ba nhóm đều khoảng 3, cho thấy mức độ hài lòng trung bình.  \n",
    "- Khoảng giá trị (interquartile range - IQR) cũng tương đối giống nhau."
   ]
  },
  {
   "cell_type": "markdown",
   "metadata": {},
   "source": [
    "## 7. Mối liên hệ giữa áp lực và điểm số\n",
    "\n",
    "- Câu hỏi: Sinh viên chịu áp lực học tập cao có CGPA(Cumulative Grade Point Average) khác biệt so với những sinh viên áp lực thấp không?\n",
    "- Mục đích: Xem liệu áp lực cao có tương quan với hiệu suất học tập tốt hơn hoặc kém hơn."
   ]
  },
  {
   "cell_type": "code",
   "execution_count": 98,
   "metadata": {},
   "outputs": [
    {
     "data": {
      "text/html": [
       "<div>\n",
       "<style scoped>\n",
       "    .dataframe tbody tr th:only-of-type {\n",
       "        vertical-align: middle;\n",
       "    }\n",
       "\n",
       "    .dataframe tbody tr th {\n",
       "        vertical-align: top;\n",
       "    }\n",
       "\n",
       "    .dataframe thead th {\n",
       "        text-align: right;\n",
       "    }\n",
       "</style>\n",
       "<table border=\"1\" class=\"dataframe\">\n",
       "  <thead>\n",
       "    <tr style=\"text-align: right;\">\n",
       "      <th></th>\n",
       "      <th>mean</th>\n",
       "      <th>std</th>\n",
       "      <th>count</th>\n",
       "    </tr>\n",
       "    <tr>\n",
       "      <th>Academic Pressure</th>\n",
       "      <th></th>\n",
       "      <th></th>\n",
       "      <th></th>\n",
       "    </tr>\n",
       "  </thead>\n",
       "  <tbody>\n",
       "    <tr>\n",
       "      <th>0.0</th>\n",
       "      <td>2.173333</td>\n",
       "      <td>3.375363</td>\n",
       "      <td>9</td>\n",
       "    </tr>\n",
       "    <tr>\n",
       "      <th>1.0</th>\n",
       "      <td>7.724066</td>\n",
       "      <td>1.467177</td>\n",
       "      <td>4801</td>\n",
       "    </tr>\n",
       "    <tr>\n",
       "      <th>2.0</th>\n",
       "      <td>7.699495</td>\n",
       "      <td>1.496335</td>\n",
       "      <td>4178</td>\n",
       "    </tr>\n",
       "    <tr>\n",
       "      <th>3.0</th>\n",
       "      <td>7.646876</td>\n",
       "      <td>1.454031</td>\n",
       "      <td>7462</td>\n",
       "    </tr>\n",
       "    <tr>\n",
       "      <th>4.0</th>\n",
       "      <td>7.616541</td>\n",
       "      <td>1.455500</td>\n",
       "      <td>5155</td>\n",
       "    </tr>\n",
       "    <tr>\n",
       "      <th>5.0</th>\n",
       "      <td>7.626653</td>\n",
       "      <td>1.467877</td>\n",
       "      <td>6296</td>\n",
       "    </tr>\n",
       "  </tbody>\n",
       "</table>\n",
       "</div>"
      ],
      "text/plain": [
       "                       mean       std  count\n",
       "Academic Pressure                           \n",
       "0.0                2.173333  3.375363      9\n",
       "1.0                7.724066  1.467177   4801\n",
       "2.0                7.699495  1.496335   4178\n",
       "3.0                7.646876  1.454031   7462\n",
       "4.0                7.616541  1.455500   5155\n",
       "5.0                7.626653  1.467877   6296"
      ]
     },
     "execution_count": 98,
     "metadata": {},
     "output_type": "execute_result"
    }
   ],
   "source": [
    "stats = df.groupby('Academic Pressure')['CGPA'].agg(['mean', 'std', 'count'])\n",
    "stats"
   ]
  },
  {
   "cell_type": "markdown",
   "metadata": {},
   "source": [
    "Thống kê:\n",
    "- Mean:\n",
    "    - Academic Pressure = 0.0: CGPA rất thấp (2.17).\n",
    "    - Academic Pressure từ 1.0 đến 5.0: CGPA trung bình duy trì ở khoảng 7.62 đến 7.72.\n",
    "- Std:\n",
    "    - Academic Pressure = 0.0 có độ lệch chuẩn rất cao (3.37), cho thấy điểm CGPA của nhóm này rất không đồng đều.\n",
    "    - Academic Pressure từ 1.0 đến 5.0 có độ lệch chuẩn thấp (1.45 -> 1.49), tức là là điểm CGPA của các nhóm này ổn định hơn."
   ]
  },
  {
   "cell_type": "code",
   "execution_count": 99,
   "metadata": {},
   "outputs": [
    {
     "data": {
      "image/png": "[encoded data removed]",
      "text/plain": [
       "<Figure size 1000x600 with 1 Axes>"
      ]
     },
     "metadata": {},
     "output_type": "display_data"
    }
   ],
   "source": [
    "plt.figure(figsize=(10, 6))\n",
    "stats['mean'].plot(kind='bar', title='Average CGPA by Academic Pressure')\n",
    "plt.xlabel('Academic Pressure (0 = Low, 5 = High)')\n",
    "plt.ylabel('Average CGPA')\n",
    "plt.show()"
   ]
  },
  {
   "cell_type": "markdown",
   "metadata": {},
   "source": [
    "- Nhìn vào kết quả thống kê trên ta thấy được điểm trung bình tích luỹ(CGPA) tăng đáng kể khi áp lực học tập(Academic Pressure) tăng từ **0 lên 1**. Sau đó thì trung bình tích luỹ duy trì khá ổn định (7.6 -> 7.7) với mức áp lực từ 1 đến 5. Tuy nhiên từ **1 đến 4** có dấu hiệu suy giảm CGPA"
   ]
  },
  {
   "cell_type": "code",
   "execution_count": 100,
   "metadata": {},
   "outputs": [
    {
     "data": {
      "image/png": "[encoded data removed]",
      "text/plain": [
       "<Figure size 1000x600 with 1 Axes>"
      ]
     },
     "metadata": {},
     "output_type": "display_data"
    }
   ],
   "source": [
    "plt.figure(figsize=(10, 6))\n",
    "sns.boxplot(data=df, x='Academic Pressure', y='CGPA', palette='Set3')\n",
    "plt.title('Distribution of CGPA by Academic Pressure Level')\n",
    "plt.xlabel('Academic Pressure (0 = Low, 5 = High)')\n",
    "plt.ylabel('CGPA')\n",
    "plt.show()"
   ]
  },
  {
   "cell_type": "markdown",
   "metadata": {},
   "source": [
    "- Mức áp lực học tập thấp nhất (0.0):\n",
    "    - CGPA có giá trị trung bình thấp nhất so với các mức áp lực khác.\n",
    "    - Phân phối CGPA rất rộng với độ lệch lớn\n",
    "    - Điều này cho thấy thiếu áp lực học tập có thể dẫn đến sự không ổn định và kết quả học tập kém.\n",
    "- Mức áp lực từ 1.0 đến 5.0:\n",
    "    - CGPA ổn định hơn, với độ lệch chuẩn nhỏ hơn so với mức 0.0.\n",
    "    - Giá trị trung vị CGPA tương đối cao và gần giống nhau ở các mức áp lực này"
   ]
  },
  {
   "cell_type": "markdown",
   "metadata": {},
   "source": [
    "ANOVA Test cho các mức ta không nhìn rõ trên biểu đồ\n",
    "- $H_0$: Không có sự khác biệt nào về CGPA giữa các mức độ áp lực học tập\n",
    "- Alpha = 0.05"
   ]
  },
  {
   "cell_type": "code",
   "execution_count": 101,
   "metadata": {},
   "outputs": [
    {
     "name": "stdout",
     "output_type": "stream",
     "text": [
      "ANOVA p-value: 0.0003943327785013564\n"
     ]
    }
   ],
   "source": [
    "groups = [df[df['Academic Pressure'] == i]['CGPA'] for i in range(1, 6)]\n",
    "anova_result = f_oneway(*groups)\n",
    "print(\"ANOVA p-value:\", anova_result.pvalue)"
   ]
  },
  {
   "cell_type": "markdown",
   "metadata": {},
   "source": [
    "p-value < 0.05, điều này cho thấy **có sự khác biệt** về CGPA giữa các mức độ áp lực"
   ]
  },
  {
   "cell_type": "markdown",
   "metadata": {},
   "source": [
    "**Kết luận:**\n",
    "- Có thể thấy trừ khi sinh viên không có một chút áp lực học tập nào(0.0) thì CGPA mới kém và mất ổn định\n",
    "\n",
    "- Các áp lực từ 1.0 -> 5.0 kết quả cho thấy không có sự dao động nào quá nhiều, khoảng CGPA cũng gần như tương đồng nhau. \n",
    "- Tuy nhiên CGPA giảm nhẹ ở đoạn áp lực từ 1 đến 4\n",
    "\n",
    "**Kết luận tổng quát:** Nếu muốn tối ưu hiệu suất học tập, một mức độ áp lực học tập vừa phải là lý tưởng. Không cần phải quá đặt nặng áp lực nhưng cũng đừng quá buông lỏng. "
   ]
  },
  {
   "cell_type": "markdown",
   "metadata": {},
   "source": [
    "## 8. Sự hài lòng trong học tập và công việc:\n",
    "- Câu hỏi: Sự hài lòng trong học tập (Study Satisfaction) có ảnh hưởng đến CGPA không?\n",
    "- Mục đích: Xem xét mối quan hệ giữa mức độ hài lòng cá nhân với hiệu suất và sức khỏe."
   ]
  },
  {
   "cell_type": "code",
   "execution_count": 102,
   "metadata": {},
   "outputs": [
    {
     "data": {
      "text/html": [
       "<div>\n",
       "<style scoped>\n",
       "    .dataframe tbody tr th:only-of-type {\n",
       "        vertical-align: middle;\n",
       "    }\n",
       "\n",
       "    .dataframe tbody tr th {\n",
       "        vertical-align: top;\n",
       "    }\n",
       "\n",
       "    .dataframe thead th {\n",
       "        text-align: right;\n",
       "    }\n",
       "</style>\n",
       "<table border=\"1\" class=\"dataframe\">\n",
       "  <thead>\n",
       "    <tr style=\"text-align: right;\">\n",
       "      <th></th>\n",
       "      <th>mean</th>\n",
       "      <th>std</th>\n",
       "      <th>count</th>\n",
       "    </tr>\n",
       "    <tr>\n",
       "      <th>Study Satisfaction</th>\n",
       "      <th></th>\n",
       "      <th></th>\n",
       "      <th></th>\n",
       "    </tr>\n",
       "  </thead>\n",
       "  <tbody>\n",
       "    <tr>\n",
       "      <th>0.0</th>\n",
       "      <td>1.717000</td>\n",
       "      <td>2.765735</td>\n",
       "      <td>10</td>\n",
       "    </tr>\n",
       "    <tr>\n",
       "      <th>1.0</th>\n",
       "      <td>7.745137</td>\n",
       "      <td>1.451340</td>\n",
       "      <td>5451</td>\n",
       "    </tr>\n",
       "    <tr>\n",
       "      <th>2.0</th>\n",
       "      <td>7.728684</td>\n",
       "      <td>1.475230</td>\n",
       "      <td>5838</td>\n",
       "    </tr>\n",
       "    <tr>\n",
       "      <th>3.0</th>\n",
       "      <td>7.624382</td>\n",
       "      <td>1.466556</td>\n",
       "      <td>5821</td>\n",
       "    </tr>\n",
       "    <tr>\n",
       "      <th>4.0</th>\n",
       "      <td>7.642696</td>\n",
       "      <td>1.449052</td>\n",
       "      <td>6359</td>\n",
       "    </tr>\n",
       "    <tr>\n",
       "      <th>5.0</th>\n",
       "      <td>7.525002</td>\n",
       "      <td>1.482607</td>\n",
       "      <td>4422</td>\n",
       "    </tr>\n",
       "  </tbody>\n",
       "</table>\n",
       "</div>"
      ],
      "text/plain": [
       "                        mean       std  count\n",
       "Study Satisfaction                           \n",
       "0.0                 1.717000  2.765735     10\n",
       "1.0                 7.745137  1.451340   5451\n",
       "2.0                 7.728684  1.475230   5838\n",
       "3.0                 7.624382  1.466556   5821\n",
       "4.0                 7.642696  1.449052   6359\n",
       "5.0                 7.525002  1.482607   4422"
      ]
     },
     "execution_count": 102,
     "metadata": {},
     "output_type": "execute_result"
    }
   ],
   "source": [
    "study_stats = df.groupby('Study Satisfaction')['CGPA'].agg(['mean', 'std', 'count'])\n",
    "study_stats"
   ]
  },
  {
   "cell_type": "code",
   "execution_count": 103,
   "metadata": {},
   "outputs": [
    {
     "data": {
      "image/png": "[encoded data removed]",
      "text/plain": [
       "<Figure size 1000x600 with 1 Axes>"
      ]
     },
     "metadata": {},
     "output_type": "display_data"
    }
   ],
   "source": [
    "study_stats['mean'].plot(kind='bar', title='Average CGPA by Study Satisfaction', figsize=(10, 6))\n",
    "plt.ylabel('Average CGPA')\n",
    "plt.xlabel('Study Satisfaction (0 = Very Dissatisfied, 5 = Very Satisfied)')\n",
    "\n",
    "# Tìm vị trí của giá trị max\n",
    "max_idx = study_stats['mean'].idxmax()\n",
    "max_value = study_stats['mean'].max()\n",
    "\n",
    "# Thêm nhãn cho cột max\n",
    "plt.text(x=max_idx, y=max_value + 0.1, s=f'Max: {max_value:.2f}', \n",
    "         ha='center', va='bottom', fontsize=10, color='red', fontweight='bold')\n",
    "\n",
    "plt.show()"
   ]
  },
  {
   "cell_type": "markdown",
   "metadata": {},
   "source": [
    "Thống kê:\n",
    "- Mean:\n",
    "    - Study Satisfaction = 0.0: CGPA rất thấp (1.717).\n",
    "    - Study Satisfaction từ 1.0 đến 4.0: CGPA trung bình dao động từ 7.62 đến 7.75, với giá trị cao nhất tại mức 1.0 (7.745).\n",
    "    - Study Satisfaction = 5.0: CGPA trung bình giảm nhẹ xuống 7.525.\n",
    "- Std:\n",
    "    - Study Satisfaction = 0.0: Độ lệch chuẩn rất cao (2.765), cho thấy kết quả CGPA của nhóm này không ổn định.\n",
    "    - Study Satisfaction từ 1.0 đến 5.0: Độ lệch chuẩn dao động từ 1.45 đến 1.48, cho thấy kết quả CGPA của các nhóm này ổn định hơn."
   ]
  },
  {
   "cell_type": "code",
   "execution_count": 104,
   "metadata": {},
   "outputs": [
    {
     "data": {
      "image/png": "[encoded data removed]",
      "text/plain": [
       "<Figure size 640x480 with 1 Axes>"
      ]
     },
     "metadata": {},
     "output_type": "display_data"
    }
   ],
   "source": [
    "sns.boxplot(data=df, x='Study Satisfaction', y='CGPA', palette='Set3')\n",
    "plt.title('Distribution of CGPA by Study Satisfaction Level')\n",
    "plt.xlabel('Study Satisfaction')\n",
    "plt.ylabel('CGPA')\n",
    "plt.show()"
   ]
  },
  {
   "cell_type": "markdown",
   "metadata": {},
   "source": [
    "ANOVA Test cho các mức ta không nhìn rõ trên biểu đồ\n",
    "- $H_0$: Không có sự khác biệt nào về CGPA giữa các mức độ hài lòng\n",
    "- Alpha = 0.05"
   ]
  },
  {
   "cell_type": "code",
   "execution_count": 105,
   "metadata": {},
   "outputs": [
    {
     "name": "stdout",
     "output_type": "stream",
     "text": [
      "ANOVA p-value: 5.0654450556722046e-15\n"
     ]
    }
   ],
   "source": [
    "groups = [df[df['Study Satisfaction'] == i]['CGPA'] for i in range(1, 6)]\n",
    "anova_result = f_oneway(*groups)\n",
    "print(\"ANOVA p-value:\", anova_result.pvalue)    "
   ]
  },
  {
   "cell_type": "markdown",
   "metadata": {},
   "source": [
    "p-value nhỏ hơn mức 0.05 rất nhiều, điều này cho thấy **có sự khác biệt**  về CGPA giữa các mức độ hài lòng"
   ]
  },
  {
   "cell_type": "markdown",
   "metadata": {},
   "source": [
    "**Kết luận**\n",
    "- Sinh viên có mức độ hài lòng rất thấp (Study Satisfaction = 0) đạt CGPA trung bình rất thấp (1.717), đồng thời kết quả dao động lớn (std = 2.7). Tuy nhiên, số lượng mẫu nhóm này (10) quá ít, cần bổ sung thêm dữ liệu để đưa ra kết luận chắc chắn.\n",
    "\n",
    "- Sinh viên có mức độ hài lòng thấp (Study Satisfaction = 1) đạt CGPA trung bình cao nhất (7.745). Điều này có thể là do họ chưa hài lòng hoàn toàn với học tập và nghĩ rằng “mình có thể làm tốt hơn”, từ đó thúc đẩy họ cố gắng nhiều hơn, mang lại kết quả cao nhất.\n",
    "\n",
    "- Ở mức độ hài lòng từ 2 đến 5, CGPA trung bình giảm nhẹ khi mức độ hài lòng tăng. Điều này có thể giải thích rằng khi sinh viên quá hài lòng với học tập, họ có thể lơ là hoặc mất động lực, dẫn đến CGPA không được tốt.\n",
    "\n",
    "**Kết luận tổng quát:** Mức độ hài lòng thấp vừa phải (Study Satisfaction = 1) có thể đóng vai trò là động lực giúp sinh viên đạt kết quả học tập tốt nhất. Ngược lại, mức hài lòng quá thấp hoặc quá cao đều có ảnh hưởng tiêu cực đến CGPA."
   ]
  },
  {
   "cell_type": "markdown",
   "metadata": {},
   "source": [
    "# 5. Modeling"
   ]
  },
  {
   "cell_type": "markdown",
   "metadata": {},
   "source": [
    "Mục tiêu: dựa vào các đặc điểm trong data, dự đoán xem một học sinh có mắc bệnh trầm cảm hay không (Depression)"
   ]
  },
  {
   "cell_type": "markdown",
   "metadata": {},
   "source": [
    "## 1. Prepare data for modeling"
   ]
  },
  {
   "cell_type": "markdown",
   "metadata": {},
   "source": [
    "### Drop features"
   ]
  },
  {
   "cell_type": "code",
   "execution_count": 106,
   "metadata": {},
   "outputs": [],
   "source": [
    "df.drop(columns=['id'], inplace=True)"
   ]
  },
  {
   "cell_type": "code",
   "execution_count": 107,
   "metadata": {},
   "outputs": [
    {
     "data": {
      "text/plain": [
       "1    16336\n",
       "0    11565\n",
       "Name: Depression, dtype: int64"
      ]
     },
     "execution_count": 107,
     "metadata": {},
     "output_type": "execute_result"
    }
   ],
   "source": [
    "df['Depression'].value_counts()"
   ]
  },
  {
   "cell_type": "markdown",
   "metadata": {},
   "source": [
    "Dữ liệu không quá mất cân bằng (khoảng 59%-41%)"
   ]
  },
  {
   "cell_type": "code",
   "execution_count": 108,
   "metadata": {},
   "outputs": [
    {
     "data": {
      "text/plain": [
       "Student                   27870\n",
       "Architect                     8\n",
       "Teacher                       6\n",
       "Digital Marketer              3\n",
       "Content Writer                2\n",
       "Chef                          2\n",
       "Doctor                        2\n",
       "Pharmacist                    2\n",
       "Civil Engineer                1\n",
       "UX/UI Designer                1\n",
       "Educational Consultant        1\n",
       "Manager                       1\n",
       "Lawyer                        1\n",
       "Entrepreneur                  1\n",
       "Name: Profession, dtype: int64"
      ]
     },
     "execution_count": 108,
     "metadata": {},
     "output_type": "execute_result"
    }
   ],
   "source": [
    "df.Profession.value_counts()"
   ]
  },
  {
   "cell_type": "code",
   "execution_count": 109,
   "metadata": {},
   "outputs": [],
   "source": [
    "df = df[df['Profession'] == 'Student']\n",
    "df.drop(columns = ['Profession'], inplace=True)"
   ]
  },
  {
   "cell_type": "markdown",
   "metadata": {},
   "source": [
    "Chỉ giữ lại nghề nghiệp là học sinh vì các nghề nghiệp khác quá ít"
   ]
  },
  {
   "cell_type": "markdown",
   "metadata": {},
   "source": [
    "### Encoding"
   ]
  },
  {
   "cell_type": "code",
   "execution_count": 110,
   "metadata": {},
   "outputs": [
    {
     "data": {
      "text/html": [
       "<div>\n",
       "<style scoped>\n",
       "    .dataframe tbody tr th:only-of-type {\n",
       "        vertical-align: middle;\n",
       "    }\n",
       "\n",
       "    .dataframe tbody tr th {\n",
       "        vertical-align: top;\n",
       "    }\n",
       "\n",
       "    .dataframe thead th {\n",
       "        text-align: right;\n",
       "    }\n",
       "</style>\n",
       "<table border=\"1\" class=\"dataframe\">\n",
       "  <thead>\n",
       "    <tr style=\"text-align: right;\">\n",
       "      <th></th>\n",
       "      <th>Gender</th>\n",
       "      <th>Age</th>\n",
       "      <th>City</th>\n",
       "      <th>Academic Pressure</th>\n",
       "      <th>Work Pressure</th>\n",
       "      <th>CGPA</th>\n",
       "      <th>Study Satisfaction</th>\n",
       "      <th>Job Satisfaction</th>\n",
       "      <th>Sleep Duration</th>\n",
       "      <th>Dietary Habits</th>\n",
       "      <th>Degree</th>\n",
       "      <th>Have you ever had suicidal thoughts ?</th>\n",
       "      <th>Work/Study Hours</th>\n",
       "      <th>Financial Stress</th>\n",
       "      <th>Family History of Mental Illness</th>\n",
       "      <th>Depression</th>\n",
       "      <th>Degree_Group</th>\n",
       "      <th>Dietary_Habits_Mapped</th>\n",
       "    </tr>\n",
       "  </thead>\n",
       "  <tbody>\n",
       "    <tr>\n",
       "      <th>0</th>\n",
       "      <td>1</td>\n",
       "      <td>33.0</td>\n",
       "      <td>51</td>\n",
       "      <td>5.0</td>\n",
       "      <td>0.0</td>\n",
       "      <td>8.97</td>\n",
       "      <td>2.0</td>\n",
       "      <td>0.0</td>\n",
       "      <td>0</td>\n",
       "      <td>0</td>\n",
       "      <td>3</td>\n",
       "      <td>1</td>\n",
       "      <td>3.0</td>\n",
       "      <td>1.0</td>\n",
       "      <td>0</td>\n",
       "      <td>1</td>\n",
       "      <td>0</td>\n",
       "      <td>3.0</td>\n",
       "    </tr>\n",
       "    <tr>\n",
       "      <th>1</th>\n",
       "      <td>0</td>\n",
       "      <td>24.0</td>\n",
       "      <td>3</td>\n",
       "      <td>2.0</td>\n",
       "      <td>0.0</td>\n",
       "      <td>5.90</td>\n",
       "      <td>5.0</td>\n",
       "      <td>0.0</td>\n",
       "      <td>0</td>\n",
       "      <td>1</td>\n",
       "      <td>10</td>\n",
       "      <td>0</td>\n",
       "      <td>3.0</td>\n",
       "      <td>2.0</td>\n",
       "      <td>1</td>\n",
       "      <td>0</td>\n",
       "      <td>0</td>\n",
       "      <td>2.0</td>\n",
       "    </tr>\n",
       "    <tr>\n",
       "      <th>2</th>\n",
       "      <td>1</td>\n",
       "      <td>31.0</td>\n",
       "      <td>44</td>\n",
       "      <td>3.0</td>\n",
       "      <td>0.0</td>\n",
       "      <td>7.03</td>\n",
       "      <td>5.0</td>\n",
       "      <td>0.0</td>\n",
       "      <td>2</td>\n",
       "      <td>0</td>\n",
       "      <td>5</td>\n",
       "      <td>0</td>\n",
       "      <td>9.0</td>\n",
       "      <td>1.0</td>\n",
       "      <td>1</td>\n",
       "      <td>0</td>\n",
       "      <td>0</td>\n",
       "      <td>3.0</td>\n",
       "    </tr>\n",
       "    <tr>\n",
       "      <th>3</th>\n",
       "      <td>0</td>\n",
       "      <td>28.0</td>\n",
       "      <td>49</td>\n",
       "      <td>3.0</td>\n",
       "      <td>0.0</td>\n",
       "      <td>5.59</td>\n",
       "      <td>2.0</td>\n",
       "      <td>0.0</td>\n",
       "      <td>1</td>\n",
       "      <td>1</td>\n",
       "      <td>7</td>\n",
       "      <td>1</td>\n",
       "      <td>4.0</td>\n",
       "      <td>5.0</td>\n",
       "      <td>1</td>\n",
       "      <td>1</td>\n",
       "      <td>0</td>\n",
       "      <td>2.0</td>\n",
       "    </tr>\n",
       "    <tr>\n",
       "      <th>4</th>\n",
       "      <td>0</td>\n",
       "      <td>25.0</td>\n",
       "      <td>16</td>\n",
       "      <td>4.0</td>\n",
       "      <td>0.0</td>\n",
       "      <td>8.13</td>\n",
       "      <td>3.0</td>\n",
       "      <td>0.0</td>\n",
       "      <td>0</td>\n",
       "      <td>1</td>\n",
       "      <td>17</td>\n",
       "      <td>1</td>\n",
       "      <td>1.0</td>\n",
       "      <td>1.0</td>\n",
       "      <td>0</td>\n",
       "      <td>0</td>\n",
       "      <td>2</td>\n",
       "      <td>2.0</td>\n",
       "    </tr>\n",
       "  </tbody>\n",
       "</table>\n",
       "</div>"
      ],
      "text/plain": [
       "   Gender   Age  City  Academic Pressure  Work Pressure  CGPA  \\\n",
       "0       1  33.0    51                5.0            0.0  8.97   \n",
       "1       0  24.0     3                2.0            0.0  5.90   \n",
       "2       1  31.0    44                3.0            0.0  7.03   \n",
       "3       0  28.0    49                3.0            0.0  5.59   \n",
       "4       0  25.0    16                4.0            0.0  8.13   \n",
       "\n",
       "   Study Satisfaction  Job Satisfaction  Sleep Duration  Dietary Habits  \\\n",
       "0                 2.0               0.0               0               0   \n",
       "1                 5.0               0.0               0               1   \n",
       "2                 5.0               0.0               2               0   \n",
       "3                 2.0               0.0               1               1   \n",
       "4                 3.0               0.0               0               1   \n",
       "\n",
       "   Degree  Have you ever had suicidal thoughts ?  Work/Study Hours  \\\n",
       "0       3                                      1               3.0   \n",
       "1      10                                      0               3.0   \n",
       "2       5                                      0               9.0   \n",
       "3       7                                      1               4.0   \n",
       "4      17                                      1               1.0   \n",
       "\n",
       "   Financial Stress  Family History of Mental Illness  Depression  \\\n",
       "0               1.0                                 0           1   \n",
       "1               2.0                                 1           0   \n",
       "2               1.0                                 1           0   \n",
       "3               5.0                                 1           1   \n",
       "4               1.0                                 0           0   \n",
       "\n",
       "   Degree_Group  Dietary_Habits_Mapped  \n",
       "0             0                    3.0  \n",
       "1             0                    2.0  \n",
       "2             0                    3.0  \n",
       "3             0                    2.0  \n",
       "4             2                    2.0  "
      ]
     },
     "execution_count": 110,
     "metadata": {},
     "output_type": "execute_result"
    }
   ],
   "source": [
    "categorical_cols = df.select_dtypes(include=['object']).columns  # Cột phân loại\n",
    "\n",
    "le = LabelEncoder()\n",
    "for col in categorical_cols:\n",
    "    df[col] = le.fit_transform(df[col])\n",
    "df.head(5)"
   ]
  },
  {
   "cell_type": "markdown",
   "metadata": {},
   "source": [
    "## 2. Train test split"
   ]
  },
  {
   "cell_type": "code",
   "execution_count": 111,
   "metadata": {},
   "outputs": [
    {
     "name": "stdout",
     "output_type": "stream",
     "text": [
      "Train set: (22296, 17) - (22296,)\n",
      "Test set: (5574, 17) - (5574,)\n"
     ]
    }
   ],
   "source": [
    "X = df.drop(columns=['Depression'])\n",
    "y = df['Depression']\n",
    "\n",
    "X_train, X_test, y_train, y_test = train_test_split(X, y, test_size=0.2, random_state=42)\n",
    "print(f'Train set: {X_train.shape} - {y_train.shape}')\n",
    "print(f'Test set: {X_test.shape} - {y_test.shape}')"
   ]
  },
  {
   "cell_type": "markdown",
   "metadata": {},
   "source": [
    "## 3. GridSearchCV for Random Forest"
   ]
  },
  {
   "cell_type": "code",
   "execution_count": 112,
   "metadata": {},
   "outputs": [
    {
     "name": "stdout",
     "output_type": "stream",
     "text": [
      "Fitting 5 folds for each of 18 candidates, totalling 90 fits\n"
     ]
    },
    {
     "ename": "ValueError",
     "evalue": "\nAll the 90 fits failed.\nIt is very likely that your model is misconfigured.\nYou can try to debug the error by setting error_score='raise'.\n\nBelow are more details about the failures:\n--------------------------------------------------------------------------------\n90 fits failed with the following error:\nTraceback (most recent call last):\n  File \"c:\\Users\\MTBH\\anaconda3\\envs\\min_ds-env\\lib\\site-packages\\sklearn\\model_selection\\_validation.py\", line 686, in _fit_and_score\n    estimator.fit(X_train, y_train, **fit_params)\n  File \"c:\\Users\\MTBH\\anaconda3\\envs\\min_ds-env\\lib\\site-packages\\sklearn\\ensemble\\_forest.py\", line 345, in fit\n    X, y = self._validate_data(\n  File \"c:\\Users\\MTBH\\anaconda3\\envs\\min_ds-env\\lib\\site-packages\\sklearn\\base.py\", line 584, in _validate_data\n    X, y = check_X_y(X, y, **check_params)\n  File \"c:\\Users\\MTBH\\anaconda3\\envs\\min_ds-env\\lib\\site-packages\\sklearn\\utils\\validation.py\", line 1106, in check_X_y\n    X = check_array(\n  File \"c:\\Users\\MTBH\\anaconda3\\envs\\min_ds-env\\lib\\site-packages\\sklearn\\utils\\validation.py\", line 921, in check_array\n    _assert_all_finite(\n  File \"c:\\Users\\MTBH\\anaconda3\\envs\\min_ds-env\\lib\\site-packages\\sklearn\\utils\\validation.py\", line 161, in _assert_all_finite\n    raise ValueError(msg_err)\nValueError: Input X contains NaN.\nRandomForestClassifier does not accept missing values encoded as NaN natively. For supervised learning, you might want to consider sklearn.ensemble.HistGradientBoostingClassifier and Regressor which accept missing values encoded as NaNs natively. Alternatively, it is possible to preprocess the data, for instance by using an imputer transformer in a pipeline or drop samples with missing values. See https://scikit-learn.org/stable/modules/impute.html You can find a list of all estimators that handle NaN values at the following page: https://scikit-learn.org/stable/modules/impute.html#estimators-that-handle-nan-values\n",
     "output_type": "error",
     "traceback": [
      "\u001b[1;31m---------------------------------------------------------------------------\u001b[0m",
      "\u001b[1;31mValueError\u001b[0m                                Traceback (most recent call last)",
      "Cell \u001b[1;32mIn[112], line 13\u001b[0m\n\u001b[0;32m      9\u001b[0m grid_search \u001b[38;5;241m=\u001b[39m GridSearchCV(estimator\u001b[38;5;241m=\u001b[39mrfc, param_grid\u001b[38;5;241m=\u001b[39mparam_grid, \n\u001b[0;32m     10\u001b[0m                            cv\u001b[38;5;241m=\u001b[39m\u001b[38;5;241m5\u001b[39m, scoring\u001b[38;5;241m=\u001b[39m\u001b[38;5;124m'\u001b[39m\u001b[38;5;124maccuracy\u001b[39m\u001b[38;5;124m'\u001b[39m, n_jobs\u001b[38;5;241m=\u001b[39m\u001b[38;5;241m-\u001b[39m\u001b[38;5;241m1\u001b[39m, verbose\u001b[38;5;241m=\u001b[39m\u001b[38;5;241m1\u001b[39m)\n\u001b[0;32m     12\u001b[0m \u001b[38;5;66;03m# Tìm kiếm siêu tham số tốt nhất\u001b[39;00m\n\u001b[1;32m---> 13\u001b[0m \u001b[43mgrid_search\u001b[49m\u001b[38;5;241;43m.\u001b[39;49m\u001b[43mfit\u001b[49m\u001b[43m(\u001b[49m\u001b[43mX_train\u001b[49m\u001b[43m,\u001b[49m\u001b[43m \u001b[49m\u001b[43my_train\u001b[49m\u001b[43m)\u001b[49m\n\u001b[0;32m     15\u001b[0m \u001b[38;5;66;03m# In kết quả tốt nhất\u001b[39;00m\n\u001b[0;32m     16\u001b[0m \u001b[38;5;28mprint\u001b[39m(\u001b[38;5;124m\"\u001b[39m\u001b[38;5;124mBest Parameters:\u001b[39m\u001b[38;5;124m\"\u001b[39m, grid_search\u001b[38;5;241m.\u001b[39mbest_params_)\n",
      "File \u001b[1;32mc:\\Users\\MTBH\\anaconda3\\envs\\min_ds-env\\lib\\site-packages\\sklearn\\model_selection\\_search.py:874\u001b[0m, in \u001b[0;36mBaseSearchCV.fit\u001b[1;34m(self, X, y, groups, **fit_params)\u001b[0m\n\u001b[0;32m    868\u001b[0m     results \u001b[38;5;241m=\u001b[39m \u001b[38;5;28mself\u001b[39m\u001b[38;5;241m.\u001b[39m_format_results(\n\u001b[0;32m    869\u001b[0m         all_candidate_params, n_splits, all_out, all_more_results\n\u001b[0;32m    870\u001b[0m     )\n\u001b[0;32m    872\u001b[0m     \u001b[38;5;28;01mreturn\u001b[39;00m results\n\u001b[1;32m--> 874\u001b[0m \u001b[38;5;28;43mself\u001b[39;49m\u001b[38;5;241;43m.\u001b[39;49m\u001b[43m_run_search\u001b[49m\u001b[43m(\u001b[49m\u001b[43mevaluate_candidates\u001b[49m\u001b[43m)\u001b[49m\n\u001b[0;32m    876\u001b[0m \u001b[38;5;66;03m# multimetric is determined here because in the case of a callable\u001b[39;00m\n\u001b[0;32m    877\u001b[0m \u001b[38;5;66;03m# self.scoring the return type is only known after calling\u001b[39;00m\n\u001b[0;32m    878\u001b[0m first_test_score \u001b[38;5;241m=\u001b[39m all_out[\u001b[38;5;241m0\u001b[39m][\u001b[38;5;124m\"\u001b[39m\u001b[38;5;124mtest_scores\u001b[39m\u001b[38;5;124m\"\u001b[39m]\n",
      "File \u001b[1;32mc:\\Users\\MTBH\\anaconda3\\envs\\min_ds-env\\lib\\site-packages\\sklearn\\model_selection\\_search.py:1388\u001b[0m, in \u001b[0;36mGridSearchCV._run_search\u001b[1;34m(self, evaluate_candidates)\u001b[0m\n\u001b[0;32m   1386\u001b[0m \u001b[38;5;28;01mdef\u001b[39;00m \u001b[38;5;21m_run_search\u001b[39m(\u001b[38;5;28mself\u001b[39m, evaluate_candidates):\n\u001b[0;32m   1387\u001b[0m \u001b[38;5;250m    \u001b[39m\u001b[38;5;124;03m\"\"\"Search all candidates in param_grid\"\"\"\u001b[39;00m\n\u001b[1;32m-> 1388\u001b[0m     \u001b[43mevaluate_candidates\u001b[49m\u001b[43m(\u001b[49m\u001b[43mParameterGrid\u001b[49m\u001b[43m(\u001b[49m\u001b[38;5;28;43mself\u001b[39;49m\u001b[38;5;241;43m.\u001b[39;49m\u001b[43mparam_grid\u001b[49m\u001b[43m)\u001b[49m\u001b[43m)\u001b[49m\n",
      "File \u001b[1;32mc:\\Users\\MTBH\\anaconda3\\envs\\min_ds-env\\lib\\site-packages\\sklearn\\model_selection\\_search.py:851\u001b[0m, in \u001b[0;36mBaseSearchCV.fit.<locals>.evaluate_candidates\u001b[1;34m(candidate_params, cv, more_results)\u001b[0m\n\u001b[0;32m    844\u001b[0m \u001b[38;5;28;01melif\u001b[39;00m \u001b[38;5;28mlen\u001b[39m(out) \u001b[38;5;241m!=\u001b[39m n_candidates \u001b[38;5;241m*\u001b[39m n_splits:\n\u001b[0;32m    845\u001b[0m     \u001b[38;5;28;01mraise\u001b[39;00m \u001b[38;5;167;01mValueError\u001b[39;00m(\n\u001b[0;32m    846\u001b[0m         \u001b[38;5;124m\"\u001b[39m\u001b[38;5;124mcv.split and cv.get_n_splits returned \u001b[39m\u001b[38;5;124m\"\u001b[39m\n\u001b[0;32m    847\u001b[0m         \u001b[38;5;124m\"\u001b[39m\u001b[38;5;124minconsistent results. Expected \u001b[39m\u001b[38;5;132;01m{}\u001b[39;00m\u001b[38;5;124m \u001b[39m\u001b[38;5;124m\"\u001b[39m\n\u001b[0;32m    848\u001b[0m         \u001b[38;5;124m\"\u001b[39m\u001b[38;5;124msplits, got \u001b[39m\u001b[38;5;132;01m{}\u001b[39;00m\u001b[38;5;124m\"\u001b[39m\u001b[38;5;241m.\u001b[39mformat(n_splits, \u001b[38;5;28mlen\u001b[39m(out) \u001b[38;5;241m/\u001b[39m\u001b[38;5;241m/\u001b[39m n_candidates)\n\u001b[0;32m    849\u001b[0m     )\n\u001b[1;32m--> 851\u001b[0m \u001b[43m_warn_or_raise_about_fit_failures\u001b[49m\u001b[43m(\u001b[49m\u001b[43mout\u001b[49m\u001b[43m,\u001b[49m\u001b[43m \u001b[49m\u001b[38;5;28;43mself\u001b[39;49m\u001b[38;5;241;43m.\u001b[39;49m\u001b[43merror_score\u001b[49m\u001b[43m)\u001b[49m\n\u001b[0;32m    853\u001b[0m \u001b[38;5;66;03m# For callable self.scoring, the return type is only know after\u001b[39;00m\n\u001b[0;32m    854\u001b[0m \u001b[38;5;66;03m# calling. If the return type is a dictionary, the error scores\u001b[39;00m\n\u001b[0;32m    855\u001b[0m \u001b[38;5;66;03m# can now be inserted with the correct key. The type checking\u001b[39;00m\n\u001b[0;32m    856\u001b[0m \u001b[38;5;66;03m# of out will be done in `_insert_error_scores`.\u001b[39;00m\n\u001b[0;32m    857\u001b[0m \u001b[38;5;28;01mif\u001b[39;00m \u001b[38;5;28mcallable\u001b[39m(\u001b[38;5;28mself\u001b[39m\u001b[38;5;241m.\u001b[39mscoring):\n",
      "File \u001b[1;32mc:\\Users\\MTBH\\anaconda3\\envs\\min_ds-env\\lib\\site-packages\\sklearn\\model_selection\\_validation.py:367\u001b[0m, in \u001b[0;36m_warn_or_raise_about_fit_failures\u001b[1;34m(results, error_score)\u001b[0m\n\u001b[0;32m    360\u001b[0m \u001b[38;5;28;01mif\u001b[39;00m num_failed_fits \u001b[38;5;241m==\u001b[39m num_fits:\n\u001b[0;32m    361\u001b[0m     all_fits_failed_message \u001b[38;5;241m=\u001b[39m (\n\u001b[0;32m    362\u001b[0m         \u001b[38;5;124mf\u001b[39m\u001b[38;5;124m\"\u001b[39m\u001b[38;5;130;01m\\n\u001b[39;00m\u001b[38;5;124mAll the \u001b[39m\u001b[38;5;132;01m{\u001b[39;00mnum_fits\u001b[38;5;132;01m}\u001b[39;00m\u001b[38;5;124m fits failed.\u001b[39m\u001b[38;5;130;01m\\n\u001b[39;00m\u001b[38;5;124m\"\u001b[39m\n\u001b[0;32m    363\u001b[0m         \u001b[38;5;124m\"\u001b[39m\u001b[38;5;124mIt is very likely that your model is misconfigured.\u001b[39m\u001b[38;5;130;01m\\n\u001b[39;00m\u001b[38;5;124m\"\u001b[39m\n\u001b[0;32m    364\u001b[0m         \u001b[38;5;124m\"\u001b[39m\u001b[38;5;124mYou can try to debug the error by setting error_score=\u001b[39m\u001b[38;5;124m'\u001b[39m\u001b[38;5;124mraise\u001b[39m\u001b[38;5;124m'\u001b[39m\u001b[38;5;124m.\u001b[39m\u001b[38;5;130;01m\\n\u001b[39;00m\u001b[38;5;130;01m\\n\u001b[39;00m\u001b[38;5;124m\"\u001b[39m\n\u001b[0;32m    365\u001b[0m         \u001b[38;5;124mf\u001b[39m\u001b[38;5;124m\"\u001b[39m\u001b[38;5;124mBelow are more details about the failures:\u001b[39m\u001b[38;5;130;01m\\n\u001b[39;00m\u001b[38;5;132;01m{\u001b[39;00mfit_errors_summary\u001b[38;5;132;01m}\u001b[39;00m\u001b[38;5;124m\"\u001b[39m\n\u001b[0;32m    366\u001b[0m     )\n\u001b[1;32m--> 367\u001b[0m     \u001b[38;5;28;01mraise\u001b[39;00m \u001b[38;5;167;01mValueError\u001b[39;00m(all_fits_failed_message)\n\u001b[0;32m    369\u001b[0m \u001b[38;5;28;01melse\u001b[39;00m:\n\u001b[0;32m    370\u001b[0m     some_fits_failed_message \u001b[38;5;241m=\u001b[39m (\n\u001b[0;32m    371\u001b[0m         \u001b[38;5;124mf\u001b[39m\u001b[38;5;124m\"\u001b[39m\u001b[38;5;130;01m\\n\u001b[39;00m\u001b[38;5;132;01m{\u001b[39;00mnum_failed_fits\u001b[38;5;132;01m}\u001b[39;00m\u001b[38;5;124m fits failed out of a total of \u001b[39m\u001b[38;5;132;01m{\u001b[39;00mnum_fits\u001b[38;5;132;01m}\u001b[39;00m\u001b[38;5;124m.\u001b[39m\u001b[38;5;130;01m\\n\u001b[39;00m\u001b[38;5;124m\"\u001b[39m\n\u001b[0;32m    372\u001b[0m         \u001b[38;5;124m\"\u001b[39m\u001b[38;5;124mThe score on these train-test partitions for these parameters\u001b[39m\u001b[38;5;124m\"\u001b[39m\n\u001b[1;32m   (...)\u001b[0m\n\u001b[0;32m    376\u001b[0m         \u001b[38;5;124mf\u001b[39m\u001b[38;5;124m\"\u001b[39m\u001b[38;5;124mBelow are more details about the failures:\u001b[39m\u001b[38;5;130;01m\\n\u001b[39;00m\u001b[38;5;132;01m{\u001b[39;00mfit_errors_summary\u001b[38;5;132;01m}\u001b[39;00m\u001b[38;5;124m\"\u001b[39m\n\u001b[0;32m    377\u001b[0m     )\n",
      "\u001b[1;31mValueError\u001b[0m: \nAll the 90 fits failed.\nIt is very likely that your model is misconfigured.\nYou can try to debug the error by setting error_score='raise'.\n\nBelow are more details about the failures:\n--------------------------------------------------------------------------------\n90 fits failed with the following error:\nTraceback (most recent call last):\n  File \"c:\\Users\\MTBH\\anaconda3\\envs\\min_ds-env\\lib\\site-packages\\sklearn\\model_selection\\_validation.py\", line 686, in _fit_and_score\n    estimator.fit(X_train, y_train, **fit_params)\n  File \"c:\\Users\\MTBH\\anaconda3\\envs\\min_ds-env\\lib\\site-packages\\sklearn\\ensemble\\_forest.py\", line 345, in fit\n    X, y = self._validate_data(\n  File \"c:\\Users\\MTBH\\anaconda3\\envs\\min_ds-env\\lib\\site-packages\\sklearn\\base.py\", line 584, in _validate_data\n    X, y = check_X_y(X, y, **check_params)\n  File \"c:\\Users\\MTBH\\anaconda3\\envs\\min_ds-env\\lib\\site-packages\\sklearn\\utils\\validation.py\", line 1106, in check_X_y\n    X = check_array(\n  File \"c:\\Users\\MTBH\\anaconda3\\envs\\min_ds-env\\lib\\site-packages\\sklearn\\utils\\validation.py\", line 921, in check_array\n    _assert_all_finite(\n  File \"c:\\Users\\MTBH\\anaconda3\\envs\\min_ds-env\\lib\\site-packages\\sklearn\\utils\\validation.py\", line 161, in _assert_all_finite\n    raise ValueError(msg_err)\nValueError: Input X contains NaN.\nRandomForestClassifier does not accept missing values encoded as NaN natively. For supervised learning, you might want to consider sklearn.ensemble.HistGradientBoostingClassifier and Regressor which accept missing values encoded as NaNs natively. Alternatively, it is possible to preprocess the data, for instance by using an imputer transformer in a pipeline or drop samples with missing values. See https://scikit-learn.org/stable/modules/impute.html You can find a list of all estimators that handle NaN values at the following page: https://scikit-learn.org/stable/modules/impute.html#estimators-that-handle-nan-values\n"
     ]
    }
   ],
   "source": [
    "param_grid = {\n",
    "    'n_estimators': [50, 100, 200],             # Số lượng cây\n",
    "    'max_depth': [10, 20, 30],                  # Độ sâu tối đa mỗi cây\n",
    "    'min_samples_split': [5, 10],               # Số mẫu tối thiểu để chia nhánh\n",
    "}\n",
    "\n",
    "rfc = RandomForestClassifier(random_state=42)\n",
    "\n",
    "grid_search = GridSearchCV(estimator=rfc, param_grid=param_grid, \n",
    "                           cv=5, scoring='accuracy', n_jobs=-1, verbose=1)\n",
    "\n",
    "# Tìm kiếm siêu tham số tốt nhất\n",
    "grid_search.fit(X_train, y_train)\n",
    "\n",
    "# In kết quả tốt nhất\n",
    "print(\"Best Parameters:\", grid_search.best_params_)\n",
    "print(\"Best Cross-Validation Score:\", grid_search.best_score_)"
   ]
  },
  {
   "cell_type": "markdown",
   "metadata": {},
   "source": [
    "## 4. Validation on Test set"
   ]
  },
  {
   "cell_type": "code",
   "execution_count": 59,
   "metadata": {},
   "outputs": [
    {
     "name": "stdout",
     "output_type": "stream",
     "text": [
      "Accuracy on test set: 0.8462504485109437\n",
      "\n",
      "Classification Report:\n",
      "              precision    recall  f1-score   support\n",
      "\n",
      "           0       0.84      0.78      0.81      2347\n",
      "           1       0.85      0.89      0.87      3227\n",
      "\n",
      "    accuracy                           0.85      5574\n",
      "   macro avg       0.85      0.84      0.84      5574\n",
      "weighted avg       0.85      0.85      0.85      5574\n",
      "\n"
     ]
    }
   ],
   "source": [
    "model = grid_search.best_estimator_\n",
    "\n",
    "y_pred = model.predict(X_test)\n",
    "\n",
    "print(\"Accuracy on test set:\", accuracy_score(y_test, y_pred))\n",
    "print(\"\\nClassification Report:\")\n",
    "print(classification_report(y_test, y_pred))"
   ]
  },
  {
   "cell_type": "markdown",
   "metadata": {},
   "source": [
    "Đánh giá mô hình:\n",
    "- Mô hình hoạt động khá tốt, với độ chính xác (Accuracy) là 85%.\n",
    "- Lớp 1 có Recall cao hơn (0.89), nghĩa là mô hình nhận diện tốt hơn lớp này (ít bỏ sót hơn).\n",
    "- Lớp 0 có Recall thấp hơn (0.78), mô hình có xu hướng bỏ sót nhiều hơn với lớp này."
   ]
  }
 ],
 "metadata": {
  "kernelspec": {
   "display_name": "min_ds-env",
   "language": "python",
   "name": "python3"
  },
  "language_info": {
   "codemirror_mode": {
    "name": "ipython",
    "version": 3
   },
   "file_extension": ".py",
   "mimetype": "text/x-python",
   "name": "python",
   "nbconvert_exporter": "python",
   "pygments_lexer": "ipython3",
   "version": "3.10.8"
  }
 },
 "nbformat": 4,
 "nbformat_minor": 2
}
