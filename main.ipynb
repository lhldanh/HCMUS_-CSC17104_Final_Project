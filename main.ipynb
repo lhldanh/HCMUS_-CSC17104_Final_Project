{
 "cells": [
  {
   "cell_type": "markdown",
   "metadata": {},
   "source": [
    "***Nhóm 25*** </br>\n",
    "Thành viên:\n",
    "- Liêu Hải Lưu Danh - 22120459\n",
    "- Đỗ Thanh Tùng - 22120408\n",
    "- Phạm Ngọc Hoà - 22120109"
   ]
  },
  {
   "cell_type": "markdown",
   "metadata": {},
   "source": [
    "# 1. Import Libraries"
   ]
  },
  {
   "cell_type": "code",
   "execution_count": 62,
   "metadata": {},
   "outputs": [],
   "source": [
    "import pandas as pd\n",
    "import numpy as np\n",
    "\n",
    "import seaborn as sns\n",
    "import matplotlib.pyplot as plt\n",
    "\n",
    "from scipy.stats import f_oneway\n",
    "from scipy.stats import ttest_ind\n",
    "from scipy.stats import chi2_contingency\n",
    "\n",
    "\n",
    "from sklearn.linear_model import LinearRegression\n",
    "from sklearn.preprocessing import PolynomialFeatures\n",
    "\n",
    "import warnings\n",
    "warnings.filterwarnings('ignore')"
   ]
  },
  {
   "cell_type": "markdown",
   "metadata": {},
   "source": [
    "# 2. Read Dataset"
   ]
  },
  {
   "cell_type": "code",
   "execution_count": 63,
   "metadata": {},
   "outputs": [
    {
     "data": {
      "text/html": [
       "<div>\n",
       "<style scoped>\n",
       "    .dataframe tbody tr th:only-of-type {\n",
       "        vertical-align: middle;\n",
       "    }\n",
       "\n",
       "    .dataframe tbody tr th {\n",
       "        vertical-align: top;\n",
       "    }\n",
       "\n",
       "    .dataframe thead th {\n",
       "        text-align: right;\n",
       "    }\n",
       "</style>\n",
       "<table border=\"1\" class=\"dataframe\">\n",
       "  <thead>\n",
       "    <tr style=\"text-align: right;\">\n",
       "      <th></th>\n",
       "      <th>id</th>\n",
       "      <th>Gender</th>\n",
       "      <th>Age</th>\n",
       "      <th>City</th>\n",
       "      <th>Profession</th>\n",
       "      <th>Academic Pressure</th>\n",
       "      <th>Work Pressure</th>\n",
       "      <th>CGPA</th>\n",
       "      <th>Study Satisfaction</th>\n",
       "      <th>Job Satisfaction</th>\n",
       "      <th>Sleep Duration</th>\n",
       "      <th>Dietary Habits</th>\n",
       "      <th>Degree</th>\n",
       "      <th>Have you ever had suicidal thoughts ?</th>\n",
       "      <th>Work/Study Hours</th>\n",
       "      <th>Financial Stress</th>\n",
       "      <th>Family History of Mental Illness</th>\n",
       "      <th>Depression</th>\n",
       "    </tr>\n",
       "  </thead>\n",
       "  <tbody>\n",
       "    <tr>\n",
       "      <th>0</th>\n",
       "      <td>2</td>\n",
       "      <td>Male</td>\n",
       "      <td>33.0</td>\n",
       "      <td>Visakhapatnam</td>\n",
       "      <td>Student</td>\n",
       "      <td>5.0</td>\n",
       "      <td>0.0</td>\n",
       "      <td>8.97</td>\n",
       "      <td>2.0</td>\n",
       "      <td>0.0</td>\n",
       "      <td>5-6 hours</td>\n",
       "      <td>Healthy</td>\n",
       "      <td>B.Pharm</td>\n",
       "      <td>Yes</td>\n",
       "      <td>3.0</td>\n",
       "      <td>1.0</td>\n",
       "      <td>No</td>\n",
       "      <td>1</td>\n",
       "    </tr>\n",
       "    <tr>\n",
       "      <th>1</th>\n",
       "      <td>8</td>\n",
       "      <td>Female</td>\n",
       "      <td>24.0</td>\n",
       "      <td>Bangalore</td>\n",
       "      <td>Student</td>\n",
       "      <td>2.0</td>\n",
       "      <td>0.0</td>\n",
       "      <td>5.90</td>\n",
       "      <td>5.0</td>\n",
       "      <td>0.0</td>\n",
       "      <td>5-6 hours</td>\n",
       "      <td>Moderate</td>\n",
       "      <td>BSc</td>\n",
       "      <td>No</td>\n",
       "      <td>3.0</td>\n",
       "      <td>2.0</td>\n",
       "      <td>Yes</td>\n",
       "      <td>0</td>\n",
       "    </tr>\n",
       "    <tr>\n",
       "      <th>2</th>\n",
       "      <td>26</td>\n",
       "      <td>Male</td>\n",
       "      <td>31.0</td>\n",
       "      <td>Srinagar</td>\n",
       "      <td>Student</td>\n",
       "      <td>3.0</td>\n",
       "      <td>0.0</td>\n",
       "      <td>7.03</td>\n",
       "      <td>5.0</td>\n",
       "      <td>0.0</td>\n",
       "      <td>Less than 5 hours</td>\n",
       "      <td>Healthy</td>\n",
       "      <td>BA</td>\n",
       "      <td>No</td>\n",
       "      <td>9.0</td>\n",
       "      <td>1.0</td>\n",
       "      <td>Yes</td>\n",
       "      <td>0</td>\n",
       "    </tr>\n",
       "    <tr>\n",
       "      <th>3</th>\n",
       "      <td>30</td>\n",
       "      <td>Female</td>\n",
       "      <td>28.0</td>\n",
       "      <td>Varanasi</td>\n",
       "      <td>Student</td>\n",
       "      <td>3.0</td>\n",
       "      <td>0.0</td>\n",
       "      <td>5.59</td>\n",
       "      <td>2.0</td>\n",
       "      <td>0.0</td>\n",
       "      <td>7-8 hours</td>\n",
       "      <td>Moderate</td>\n",
       "      <td>BCA</td>\n",
       "      <td>Yes</td>\n",
       "      <td>4.0</td>\n",
       "      <td>5.0</td>\n",
       "      <td>Yes</td>\n",
       "      <td>1</td>\n",
       "    </tr>\n",
       "    <tr>\n",
       "      <th>4</th>\n",
       "      <td>32</td>\n",
       "      <td>Female</td>\n",
       "      <td>25.0</td>\n",
       "      <td>Jaipur</td>\n",
       "      <td>Student</td>\n",
       "      <td>4.0</td>\n",
       "      <td>0.0</td>\n",
       "      <td>8.13</td>\n",
       "      <td>3.0</td>\n",
       "      <td>0.0</td>\n",
       "      <td>5-6 hours</td>\n",
       "      <td>Moderate</td>\n",
       "      <td>M.Tech</td>\n",
       "      <td>Yes</td>\n",
       "      <td>1.0</td>\n",
       "      <td>1.0</td>\n",
       "      <td>No</td>\n",
       "      <td>0</td>\n",
       "    </tr>\n",
       "  </tbody>\n",
       "</table>\n",
       "</div>"
      ],
      "text/plain": [
       "   id  Gender   Age           City Profession  Academic Pressure  \\\n",
       "0   2    Male  33.0  Visakhapatnam    Student                5.0   \n",
       "1   8  Female  24.0      Bangalore    Student                2.0   \n",
       "2  26    Male  31.0       Srinagar    Student                3.0   \n",
       "3  30  Female  28.0       Varanasi    Student                3.0   \n",
       "4  32  Female  25.0         Jaipur    Student                4.0   \n",
       "\n",
       "   Work Pressure  CGPA  Study Satisfaction  Job Satisfaction  \\\n",
       "0            0.0  8.97                 2.0               0.0   \n",
       "1            0.0  5.90                 5.0               0.0   \n",
       "2            0.0  7.03                 5.0               0.0   \n",
       "3            0.0  5.59                 2.0               0.0   \n",
       "4            0.0  8.13                 3.0               0.0   \n",
       "\n",
       "      Sleep Duration Dietary Habits   Degree  \\\n",
       "0          5-6 hours        Healthy  B.Pharm   \n",
       "1          5-6 hours       Moderate      BSc   \n",
       "2  Less than 5 hours        Healthy       BA   \n",
       "3          7-8 hours       Moderate      BCA   \n",
       "4          5-6 hours       Moderate   M.Tech   \n",
       "\n",
       "  Have you ever had suicidal thoughts ?  Work/Study Hours  Financial Stress  \\\n",
       "0                                   Yes               3.0               1.0   \n",
       "1                                    No               3.0               2.0   \n",
       "2                                    No               9.0               1.0   \n",
       "3                                   Yes               4.0               5.0   \n",
       "4                                   Yes               1.0               1.0   \n",
       "\n",
       "  Family History of Mental Illness  Depression  \n",
       "0                               No           1  \n",
       "1                              Yes           0  \n",
       "2                              Yes           0  \n",
       "3                              Yes           1  \n",
       "4                               No           0  "
      ]
     },
     "execution_count": 63,
     "metadata": {},
     "output_type": "execute_result"
    }
   ],
   "source": [
    "df = pd.read_csv('student_depression.csv')\n",
    "df.head()"
   ]
  },
  {
   "cell_type": "markdown",
   "metadata": {},
   "source": [
    "# 3. Preprocess Data\n"
   ]
  },
  {
   "cell_type": "code",
   "execution_count": 64,
   "metadata": {},
   "outputs": [
    {
     "name": "stdout",
     "output_type": "stream",
     "text": [
      "<class 'pandas.core.frame.DataFrame'>\n",
      "RangeIndex: 27901 entries, 0 to 27900\n",
      "Data columns (total 18 columns):\n",
      " #   Column                                 Non-Null Count  Dtype  \n",
      "---  ------                                 --------------  -----  \n",
      " 0   id                                     27901 non-null  int64  \n",
      " 1   Gender                                 27901 non-null  object \n",
      " 2   Age                                    27901 non-null  float64\n",
      " 3   City                                   27901 non-null  object \n",
      " 4   Profession                             27901 non-null  object \n",
      " 5   Academic Pressure                      27901 non-null  float64\n",
      " 6   Work Pressure                          27901 non-null  float64\n",
      " 7   CGPA                                   27901 non-null  float64\n",
      " 8   Study Satisfaction                     27901 non-null  float64\n",
      " 9   Job Satisfaction                       27901 non-null  float64\n",
      " 10  Sleep Duration                         27901 non-null  object \n",
      " 11  Dietary Habits                         27901 non-null  object \n",
      " 12  Degree                                 27901 non-null  object \n",
      " 13  Have you ever had suicidal thoughts ?  27901 non-null  object \n",
      " 14  Work/Study Hours                       27901 non-null  float64\n",
      " 15  Financial Stress                       27898 non-null  float64\n",
      " 16  Family History of Mental Illness       27901 non-null  object \n",
      " 17  Depression                             27901 non-null  int64  \n",
      "dtypes: float64(8), int64(2), object(8)\n",
      "memory usage: 3.8+ MB\n"
     ]
    }
   ],
   "source": [
    "df.info()"
   ]
  },
  {
   "cell_type": "code",
   "execution_count": 65,
   "metadata": {},
   "outputs": [
    {
     "data": {
      "text/plain": [
       "id                                       0\n",
       "Gender                                   0\n",
       "Age                                      0\n",
       "City                                     0\n",
       "Profession                               0\n",
       "Academic Pressure                        0\n",
       "Work Pressure                            0\n",
       "CGPA                                     0\n",
       "Study Satisfaction                       0\n",
       "Job Satisfaction                         0\n",
       "Sleep Duration                           0\n",
       "Dietary Habits                           0\n",
       "Degree                                   0\n",
       "Have you ever had suicidal thoughts ?    0\n",
       "Work/Study Hours                         0\n",
       "Financial Stress                         3\n",
       "Family History of Mental Illness         0\n",
       "Depression                               0\n",
       "dtype: int64"
      ]
     },
     "execution_count": 65,
     "metadata": {},
     "output_type": "execute_result"
    }
   ],
   "source": [
    "df.isna().sum()"
   ]
  },
  {
   "cell_type": "code",
   "execution_count": 66,
   "metadata": {},
   "outputs": [],
   "source": [
    "df['Financial Stress'] = df['Financial Stress'].fillna(df['Financial Stress'].median())"
   ]
  },
  {
   "cell_type": "markdown",
   "metadata": {},
   "source": [
    "# 4. EDA"
   ]
  },
  {
   "cell_type": "markdown",
   "metadata": {},
   "source": [
    "## 1. Phân bổ nhân khẩu học và bệnh trầm cảm\n",
    "\n",
    "- Câu hỏi: Phân bố các sinh viên theo độ tuổi, giới tính, liên hệ với bệnh trầm cảm như thế nào?\n",
    "- Mục đích: Bệnh trầm cảm thường gặp phải ở những độ tuổi nào, nam hay nữ dễ bị trầm cảm hơn."
   ]
  },
  {
   "cell_type": "markdown",
   "metadata": {},
   "source": [
    "Trước tiên ta khảo sát độ tuổi của các đối tượng trong dữ liệu"
   ]
  },
  {
   "cell_type": "code",
   "execution_count": 67,
   "metadata": {},
   "outputs": [
    {
     "data": {
      "image/png": "[encoded data removed]",
      "text/plain": [
       "<Figure size 640x480 with 1 Axes>"
      ]
     },
     "metadata": {},
     "output_type": "display_data"
    }
   ],
   "source": [
    "plt.hist(df['Age'],edgecolor='white',bins=30)\n",
    "plt.xlabel('Age')\n",
    "plt.ylabel('Counts');"
   ]
  },
  {
   "cell_type": "markdown",
   "metadata": {},
   "source": [
    "Một cách trực quan, độ tuổi của đối tượng khảo sát sẽ nằm trong khoảng 18-35 tuổi  \n",
    "Để dễ dàng khảo sát ý nghĩa của dữ liệu này hơn, ta sẽ chia tuổi thành các nhóm dựa vào tứ phân vị"
   ]
  },
  {
   "cell_type": "code",
   "execution_count": 68,
   "metadata": {},
   "outputs": [
    {
     "name": "stdout",
     "output_type": "stream",
     "text": [
      "Tứ phân vị thứ 0: 21.0\n",
      "Tứ phân vị thứ 1: 25.0\n",
      "Tứ phân vị thứ 2: 30.0\n"
     ]
    }
   ],
   "source": [
    "qs=[.25,.5,.75]\n",
    "for i,q in enumerate(qs):\n",
    "    k=df['Age'].quantile(q)\n",
    "    print(f'Tứ phân vị thứ {i}: {k}')"
   ]
  },
  {
   "cell_type": "code",
   "execution_count": 69,
   "metadata": {},
   "outputs": [
    {
     "data": {
      "image/png": "[encoded data removed]",
      "text/plain": [
       "<Figure size 640x480 with 1 Axes>"
      ]
     },
     "metadata": {},
     "output_type": "display_data"
    }
   ],
   "source": [
    "age_labels=['Below 21','21-25','26-30','Above 30']\n",
    "df1=df[['Age','Gender','City','Depression']]\n",
    "\n",
    "df1['Age group']=pd.cut(df['Age'],bins=[0,21,25,30,100],\n",
    "           labels=age_labels)\n",
    "df1['Age group'].value_counts()\n",
    "plt.pie(df1['Age group'].value_counts(),\n",
    "        labels=df1['Age group'].value_counts().index,\n",
    "        autopct='%1.1f%%');\n",
    "\n",
    "plt.title('Distribution of Age group');"
   ]
  },
  {
   "cell_type": "markdown",
   "metadata": {},
   "source": [
    "Để so sánh hệ số tương quan giữa các đặc trưng: Age, Gender, Depression, ta sẽ chuyển các giá trị thành object thành số"
   ]
  },
  {
   "cell_type": "code",
   "execution_count": 70,
   "metadata": {},
   "outputs": [],
   "source": [
    "df1['Age group']=pd.cut(df['Age'],bins=[0,21,25,30,100],\n",
    "           labels=[1,2,3,4])\n",
    "df1['Age group']=df1['Age group'].astype(np.uint8)\n",
    "\n",
    "df1['Gender']=pd.get_dummies(df1['Gender'], drop_first=True)"
   ]
  },
  {
   "cell_type": "code",
   "execution_count": 71,
   "metadata": {},
   "outputs": [
    {
     "data": {
      "image/png": "[encoded data removed]",
      "text/plain": [
       "<Figure size 640x480 with 2 Axes>"
      ]
     },
     "metadata": {},
     "output_type": "display_data"
    }
   ],
   "source": [
    "sns.heatmap(df1[['Age group','Gender','Depression']].corr());"
   ]
  },
  {
   "cell_type": "markdown",
   "metadata": {},
   "source": [
    "Dựa vào heatmap, ta có thể nhận xét rằng việc bị trầm cảm có mối liên hệ tuyến tính với độ tuổi. Cụ thể hơn, hệ số tương quan là khoảng -0.2, thể hiện phần nào rằng tuổi càng cao thì càng ít bị trầm cảm hơn.  \n",
    "  \n",
    "Bên cạnh đó giới tính không hề có mối liên hệ tuyến tính nào với các thuộc tính được sử dụng khác."
   ]
  },
  {
   "cell_type": "markdown",
   "metadata": {},
   "source": [
    "##### Plot đồ thị thể hiện tỉ lệ bị trầm cảm dựa trên các nhóm tuổi"
   ]
  },
  {
   "cell_type": "code",
   "execution_count": 72,
   "metadata": {},
   "outputs": [
    {
     "data": {
      "image/png": "[encoded data removed]",
      "text/plain": [
       "<Figure size 640x480 with 1 Axes>"
      ]
     },
     "metadata": {},
     "output_type": "display_data"
    }
   ],
   "source": [
    "age_gender_counts = df1.groupby(['Age group', 'Depression']).size().unstack()\n",
    "age_gender_percentages = age_gender_counts.div(age_gender_counts.sum(axis=1), axis=0) * 100\n",
    "# Plotting\n",
    "age_gender_percentages.plot(kind='bar', stacked=True)  # Change to stacked=True for a stacked bar chart\n",
    "\n",
    "plt.title('Gender Distribution Across Age Groups')\n",
    "plt.xlabel('Age Group')\n",
    "\n",
    "plt.ylabel('Percentage')\n",
    "plt.xticks(rotation=0,labels=age_labels,ticks=range(len(age_labels)))  # Rotate x-axis labels if necessary\n",
    "plt.legend(title='Depression')\n",
    "plt.tight_layout()  # Adjust layout to fit labels\n",
    "plt.show()"
   ]
  },
  {
   "cell_type": "markdown",
   "metadata": {},
   "source": [
    "Đồ thị này biểu thị rõ ràng hơn nhận định tuổi càng cao thì tỉ lệ bị trầm cảm ít hơn."
   ]
  },
  {
   "cell_type": "markdown",
   "metadata": {},
   "source": [
    "##### Ý nghĩa: \n",
    "Tuy các tập dữ liệu có đối tượng khảo sát là học sinh, sinh viên, nhưng nhóm tuổi càng thấp thì càng có dễ bị trầm cảm hơn là nhóm tuổi cao. Điều này có thể là do họ chưa trưởng thành trong cách học và sinh hoạt trong đời sống hằng ngày chưa điều độ dẫn đến tâm trí chưa ổn định"
   ]
  },
  {
   "cell_type": "markdown",
   "metadata": {},
   "source": [
    "## 2. Liên hệ giữa nhân khẩu học và kết quả học tập\n",
    "\n",
    "- Câu hỏi: Độ tuổi, giới tính có mối liên hệ gì với CGPA không?\n",
    "- Mục đích: Xem xét liệu các đặc điểm nhân khẩu học có tương quan với hiệu suất học tập hay không."
   ]
  },
  {
   "cell_type": "code",
   "execution_count": 73,
   "metadata": {},
   "outputs": [
    {
     "data": {
      "text/html": [
       "<div>\n",
       "<style scoped>\n",
       "    .dataframe tbody tr th:only-of-type {\n",
       "        vertical-align: middle;\n",
       "    }\n",
       "\n",
       "    .dataframe tbody tr th {\n",
       "        vertical-align: top;\n",
       "    }\n",
       "\n",
       "    .dataframe thead th {\n",
       "        text-align: right;\n",
       "    }\n",
       "</style>\n",
       "<table border=\"1\" class=\"dataframe\">\n",
       "  <thead>\n",
       "    <tr style=\"text-align: right;\">\n",
       "      <th></th>\n",
       "      <th>Age group</th>\n",
       "      <th>Gender</th>\n",
       "      <th>CGPA</th>\n",
       "    </tr>\n",
       "  </thead>\n",
       "  <tbody>\n",
       "    <tr>\n",
       "      <th>Age group</th>\n",
       "      <td>1.000000</td>\n",
       "      <td>0.014945</td>\n",
       "      <td>0.000331</td>\n",
       "    </tr>\n",
       "    <tr>\n",
       "      <th>Gender</th>\n",
       "      <td>0.014945</td>\n",
       "      <td>1.000000</td>\n",
       "      <td>0.036040</td>\n",
       "    </tr>\n",
       "    <tr>\n",
       "      <th>CGPA</th>\n",
       "      <td>0.000331</td>\n",
       "      <td>0.036040</td>\n",
       "      <td>1.000000</td>\n",
       "    </tr>\n",
       "  </tbody>\n",
       "</table>\n",
       "</div>"
      ],
      "text/plain": [
       "           Age group    Gender      CGPA\n",
       "Age group   1.000000  0.014945  0.000331\n",
       "Gender      0.014945  1.000000  0.036040\n",
       "CGPA        0.000331  0.036040  1.000000"
      ]
     },
     "execution_count": 73,
     "metadata": {},
     "output_type": "execute_result"
    }
   ],
   "source": [
    "age_labels=['Below 21','21-25','26-30','Above 30']\n",
    "df2=df[['Age','Gender','City','CGPA']]\n",
    "df2['Age group']=pd.cut(df['Age'],bins=[0,21,25,30,100],\n",
    "           labels=[1,2,3,4])\n",
    "df2['Age group']=df2['Age group'].astype(np.uint8)\n",
    "df2['Gender']=pd.get_dummies(df2['Gender'], drop_first=True)\n",
    "df2[['Age group','Gender','CGPA']].corr()"
   ]
  },
  {
   "cell_type": "markdown",
   "metadata": {},
   "source": [
    "Các hệ số tương quan đều rất thấp nên không thể kết luận là có mối liên hệ tương quan giữa các biến trên  \n",
    "Ta sẽ thử thống kê mô tả CGPA dựa trên Age group\n"
   ]
  },
  {
   "cell_type": "code",
   "execution_count": 74,
   "metadata": {},
   "outputs": [
    {
     "data": {
      "text/html": [
       "<div>\n",
       "<style scoped>\n",
       "    .dataframe tbody tr th:only-of-type {\n",
       "        vertical-align: middle;\n",
       "    }\n",
       "\n",
       "    .dataframe tbody tr th {\n",
       "        vertical-align: top;\n",
       "    }\n",
       "\n",
       "    .dataframe thead th {\n",
       "        text-align: right;\n",
       "    }\n",
       "</style>\n",
       "<table border=\"1\" class=\"dataframe\">\n",
       "  <thead>\n",
       "    <tr style=\"text-align: right;\">\n",
       "      <th></th>\n",
       "      <th>mean</th>\n",
       "      <th>std</th>\n",
       "      <th>count</th>\n",
       "    </tr>\n",
       "    <tr>\n",
       "      <th>Age group</th>\n",
       "      <th></th>\n",
       "      <th></th>\n",
       "      <th></th>\n",
       "    </tr>\n",
       "  </thead>\n",
       "  <tbody>\n",
       "    <tr>\n",
       "      <th>1</th>\n",
       "      <td>7.626803</td>\n",
       "      <td>1.429826</td>\n",
       "      <td>7110</td>\n",
       "    </tr>\n",
       "    <tr>\n",
       "      <th>2</th>\n",
       "      <td>7.693774</td>\n",
       "      <td>1.453008</td>\n",
       "      <td>6847</td>\n",
       "    </tr>\n",
       "    <tr>\n",
       "      <th>3</th>\n",
       "      <td>7.668121</td>\n",
       "      <td>1.494395</td>\n",
       "      <td>7845</td>\n",
       "    </tr>\n",
       "    <tr>\n",
       "      <th>4</th>\n",
       "      <td>7.632515</td>\n",
       "      <td>1.505554</td>\n",
       "      <td>6099</td>\n",
       "    </tr>\n",
       "  </tbody>\n",
       "</table>\n",
       "</div>"
      ],
      "text/plain": [
       "               mean       std  count\n",
       "Age group                           \n",
       "1          7.626803  1.429826   7110\n",
       "2          7.693774  1.453008   6847\n",
       "3          7.668121  1.494395   7845\n",
       "4          7.632515  1.505554   6099"
      ]
     },
     "execution_count": 74,
     "metadata": {},
     "output_type": "execute_result"
    }
   ],
   "source": [
    "stats=df2.groupby(['Age group'])['CGPA'].agg(['mean', 'std', 'count'])\n",
    "stats"
   ]
  },
  {
   "cell_type": "markdown",
   "metadata": {},
   "source": [
    "Thống kê mô tả CGPA dựa trên điểm số: "
   ]
  },
  {
   "cell_type": "code",
   "execution_count": 98,
   "metadata": {},
   "outputs": [
    {
     "data": {
      "text/html": [
       "<div>\n",
       "<style scoped>\n",
       "    .dataframe tbody tr th:only-of-type {\n",
       "        vertical-align: middle;\n",
       "    }\n",
       "\n",
       "    .dataframe tbody tr th {\n",
       "        vertical-align: top;\n",
       "    }\n",
       "\n",
       "    .dataframe thead th {\n",
       "        text-align: right;\n",
       "    }\n",
       "</style>\n",
       "<table border=\"1\" class=\"dataframe\">\n",
       "  <thead>\n",
       "    <tr style=\"text-align: right;\">\n",
       "      <th></th>\n",
       "      <th>mean</th>\n",
       "      <th>std</th>\n",
       "      <th>count</th>\n",
       "    </tr>\n",
       "    <tr>\n",
       "      <th>Gender</th>\n",
       "      <th></th>\n",
       "      <th></th>\n",
       "      <th></th>\n",
       "    </tr>\n",
       "  </thead>\n",
       "  <tbody>\n",
       "    <tr>\n",
       "      <th>0</th>\n",
       "      <td>7.596645</td>\n",
       "      <td>1.487053</td>\n",
       "      <td>12354</td>\n",
       "    </tr>\n",
       "    <tr>\n",
       "      <th>1</th>\n",
       "      <td>7.703352</td>\n",
       "      <td>1.455906</td>\n",
       "      <td>15547</td>\n",
       "    </tr>\n",
       "  </tbody>\n",
       "</table>\n",
       "</div>"
      ],
      "text/plain": [
       "            mean       std  count\n",
       "Gender                           \n",
       "0       7.596645  1.487053  12354\n",
       "1       7.703352  1.455906  15547"
      ]
     },
     "execution_count": 98,
     "metadata": {},
     "output_type": "execute_result"
    }
   ],
   "source": [
    "stats=df2.groupby(['Gender'])['CGPA'].agg(['mean', 'std', 'count'])\n",
    "stats"
   ]
  },
  {
   "cell_type": "markdown",
   "metadata": {},
   "source": [
    "Ta thấy có sự khác biệt về điểm số giữa học sinh, sinh viên nữ và nam. Để kiểm định vấn đề này, ta sẽ sử dụng t-test."
   ]
  },
  {
   "cell_type": "code",
   "execution_count": 99,
   "metadata": {},
   "outputs": [],
   "source": [
    "males= df2[df2['Gender']==1]['CGPA']\n",
    "females= df2[df2['Gender']==0]['CGPA']"
   ]
  },
  {
   "cell_type": "code",
   "execution_count": 103,
   "metadata": {},
   "outputs": [
    {
     "data": {
      "image/png": "[encoded data removed]",
      "text/plain": [
       "<Figure size 640x480 with 2 Axes>"
      ]
     },
     "metadata": {},
     "output_type": "display_data"
    }
   ],
   "source": [
    "# Create a figure with subplots\n",
    "fig, ax1 = plt.subplots()\n",
    "labels=['Male','Female']\n",
    "counts= stats['count'][::-1]\n",
    "means= stats['mean'][::-1]\n",
    "# Count plot\n",
    "ax1.bar(labels, counts, color='b', alpha=0.6, label='Count')\n",
    "ax1.set_ylabel('# Students', color='b')\n",
    "ax1.tick_params(axis='y', labelcolor='b')\n",
    "\n",
    "# Create a second y-axis for the mean\n",
    "ax2 = ax1.twinx()\n",
    "ax2.plot(labels, means, color='r', marker='o', label='Mean')\n",
    "ax2.set_ylabel('Mean CGPA', color='r')\n",
    "ax2.tick_params(axis='y', labelcolor='r')\n",
    "\n",
    "# Title and legend\n",
    "plt.title('Difference in number of student and mean of CGPA  between Male and Female')\n",
    "ax1.legend(loc='upper left')\n",
    "ax2.legend(loc='upper right')\n",
    "\n",
    "# Show the plot\n",
    "plt.show()"
   ]
  },
  {
   "cell_type": "code",
   "execution_count": 77,
   "metadata": {},
   "outputs": [
    {
     "name": "stdout",
     "output_type": "stream",
     "text": [
      "T-statistic: 6.023637126208623\n",
      "P-value: 8.633674457682682e-10\n"
     ]
    }
   ],
   "source": [
    "t_stat, p_value = ttest_ind(males, females, alternative='greater')\n",
    "print(f\"T-statistic: {t_stat}\")\n",
    "print(f\"P-value: {p_value}\")"
   ]
  },
  {
   "cell_type": "markdown",
   "metadata": {},
   "source": [
    "Do giá trị p-value<0.05 nên ta có thể kết luận là điểm trung bình tích lũy của học sinh, sinh viên nam cao hơn nữ"
   ]
  },
  {
   "cell_type": "markdown",
   "metadata": {},
   "source": [
    "##### Ý nghĩa:\n",
    "Có thể lí giải điều này là đất nước Ấn Độ vẫn còn các định kiến và bất bình đẳng xã hội trong giáo dục cho 2 phái nam và nữ. Ví dụ tỉ lệ nhập học của Nam nhiều hơn, điều này cũng được thể hiện trong bảng thống ke mô tả trên, hay sự khác biệt điểm số giữa 2 phái, tuy là khía cạnh này thì ít hơn. "
   ]
  },
  {
   "cell_type": "markdown",
   "metadata": {},
   "source": [
    "Dựa vào dữ liệu thống kê và biểu đồ, ta có thể thấy không có sự khác biệt về CGPA giữa các nhóm tuổi"
   ]
  },
  {
   "cell_type": "markdown",
   "metadata": {},
   "source": [
    "## 3. Thời lượng ngủ và các yếu tố liên quan\n",
    "\n",
    "- Câu hỏi: Thời lượng ngủ trung bình có liên quan như thế nào với áp lực học tập (Academic Pressure), áp lực công việc (Work Pressure), và CGPA?\n",
    "- Mục đích: Tìm hiểu xem việc nghỉ ngơi có ảnh hưởng đến áp lực và kết quả học tập hay không."
   ]
  },
  {
   "cell_type": "code",
   "execution_count": 78,
   "metadata": {},
   "outputs": [
    {
     "name": "stdout",
     "output_type": "stream",
     "text": [
      "Dữ liệu cột Work Pressure:\n",
      " 0.0    27898\n",
      "5.0        2\n",
      "2.0        1\n",
      "Name: Work Pressure, dtype: int64\n",
      "Dữ liệu cột Job Satisfaction:\n",
      " 0.0    27893\n",
      "2.0        3\n",
      "4.0        2\n",
      "1.0        2\n",
      "3.0        1\n",
      "Name: Job Satisfaction, dtype: int64\n"
     ]
    }
   ],
   "source": [
    "print('Dữ liệu cột Work Pressure:\\n',df['Work Pressure'].value_counts())\n",
    "print('Dữ liệu cột Job Satisfaction:\\n',df['Job Satisfaction'].value_counts())"
   ]
  },
  {
   "cell_type": "markdown",
   "metadata": {},
   "source": [
    "Hơn 99% giá trị của Work Pressure = 0 làm cho việc kết quả khảo sát ý nghĩa của cột này sẽ không đáng tin cậy nên chúng em không khảo sát trên Work Pressure.  \n",
    "Khi đó câu hỏi còn lại là \"Thời lượng ngủ trung bình có liên quan như thế nào với áp lực học tập (Academic Pressure), và CGPA?\""
   ]
  },
  {
   "cell_type": "code",
   "execution_count": 79,
   "metadata": {},
   "outputs": [
    {
     "data": {
      "text/plain": [
       "Less than 5 hours    8310\n",
       "7-8 hours            7346\n",
       "5-6 hours            6183\n",
       "More than 8 hours    6044\n",
       "Others                 18\n",
       "Name: Sleep Duration, dtype: int64"
      ]
     },
     "execution_count": 79,
     "metadata": {},
     "output_type": "execute_result"
    }
   ],
   "source": [
    "df['Sleep Duration'].value_counts()"
   ]
  },
  {
   "cell_type": "markdown",
   "metadata": {},
   "source": [
    "Dữ liệu của lớp Others rất ít so với các lớp còn lại khiến cho kết luận đưa ra trên lớp này sẽ không đáng tin cậy. Do đó, chúng em sẽ chỉ khảo sát trên 4 lớp còn lại"
   ]
  },
  {
   "cell_type": "code",
   "execution_count": 80,
   "metadata": {},
   "outputs": [],
   "source": [
    "df3= df[df['Sleep Duration']!='Others']"
   ]
  },
  {
   "cell_type": "markdown",
   "metadata": {},
   "source": [
    "#### Xét mối liên hệ giữa thời lượng ngủ và áp lực học tập\n"
   ]
  },
  {
   "cell_type": "code",
   "execution_count": 81,
   "metadata": {},
   "outputs": [
    {
     "data": {
      "text/html": [
       "<div>\n",
       "<style scoped>\n",
       "    .dataframe tbody tr th:only-of-type {\n",
       "        vertical-align: middle;\n",
       "    }\n",
       "\n",
       "    .dataframe tbody tr th {\n",
       "        vertical-align: top;\n",
       "    }\n",
       "\n",
       "    .dataframe thead th {\n",
       "        text-align: right;\n",
       "    }\n",
       "</style>\n",
       "<table border=\"1\" class=\"dataframe\">\n",
       "  <thead>\n",
       "    <tr style=\"text-align: right;\">\n",
       "      <th></th>\n",
       "      <th>mean</th>\n",
       "      <th>std</th>\n",
       "      <th>count</th>\n",
       "    </tr>\n",
       "    <tr>\n",
       "      <th>Sleep Duration</th>\n",
       "      <th></th>\n",
       "      <th></th>\n",
       "      <th></th>\n",
       "    </tr>\n",
       "  </thead>\n",
       "  <tbody>\n",
       "    <tr>\n",
       "      <th>Less than 5 hours</th>\n",
       "      <td>3.228520</td>\n",
       "      <td>1.380409</td>\n",
       "      <td>8310</td>\n",
       "    </tr>\n",
       "    <tr>\n",
       "      <th>5-6 hours</th>\n",
       "      <td>3.120653</td>\n",
       "      <td>1.368878</td>\n",
       "      <td>6183</td>\n",
       "    </tr>\n",
       "    <tr>\n",
       "      <th>7-8 hours</th>\n",
       "      <td>3.135584</td>\n",
       "      <td>1.367271</td>\n",
       "      <td>7346</td>\n",
       "    </tr>\n",
       "    <tr>\n",
       "      <th>More than 8 hours</th>\n",
       "      <td>3.048974</td>\n",
       "      <td>1.407146</td>\n",
       "      <td>6044</td>\n",
       "    </tr>\n",
       "  </tbody>\n",
       "</table>\n",
       "</div>"
      ],
      "text/plain": [
       "                       mean       std  count\n",
       "Sleep Duration                              \n",
       "Less than 5 hours  3.228520  1.380409   8310\n",
       "5-6 hours          3.120653  1.368878   6183\n",
       "7-8 hours          3.135584  1.367271   7346\n",
       "More than 8 hours  3.048974  1.407146   6044"
      ]
     },
     "execution_count": 81,
     "metadata": {},
     "output_type": "execute_result"
    }
   ],
   "source": [
    "stats=df3.groupby(['Sleep Duration'])['Academic Pressure'].agg(['mean','std','count'])\n",
    "stats.loc[['Less than 5 hours','5-6 hours','7-8 hours','More than 8 hours']]"
   ]
  },
  {
   "cell_type": "markdown",
   "metadata": {},
   "source": [
    "Có thể nhận xét rằng xu hướng chung là ngủ càng nhiều thì áp lực học tập giảm xuống ít.   \n",
    "\n",
    "Áp lực giảm mạnh, 0.1, từ nhóm 1 xuống nhóm 2, nhóm 2 và nhóm 3 gần bằng nhau và giảm mạnh lần nữa, 0.09, khi qua nhóm 4.  \n",
    "\n",
    "Sự biến đổi của nhóm 1 và nhóm 4 khá rõ rệt nên ta sẽ thử kiểm định liệu trung bình của nhóm thứ 2 lại thấp hơn nhóm thứ 3 thật không"
   ]
  },
  {
   "cell_type": "code",
   "execution_count": 82,
   "metadata": {},
   "outputs": [
    {
     "name": "stdout",
     "output_type": "stream",
     "text": [
      "T-statistic: -0.63238464108118\n",
      "P-value: 0.736426871969069\n"
     ]
    }
   ],
   "source": [
    "d2=df3[df3['Sleep Duration']=='5-6 hours']['Academic Pressure']\n",
    "d3=df3[df3['Sleep Duration']=='7-8 hours']['Academic Pressure']\n",
    "t_stat, p_value = ttest_ind(d2, d3, alternative='greater')\n",
    "print(f\"T-statistic: {t_stat}\")\n",
    "print(f\"P-value: {p_value}\")"
   ]
  },
  {
   "cell_type": "markdown",
   "metadata": {},
   "source": [
    "p-value không nhỏ hơn 0.05 nên không thể bác bỏ giả thuyết giá trị trung bình của 2 nhóm là bằng nhau.\n",
    "\n",
    "Vậy khẳng định xu hướng chung là ngủ nhiều thì áp lực học tập sẽ hầu như là giảm."
   ]
  },
  {
   "cell_type": "code",
   "execution_count": 83,
   "metadata": {},
   "outputs": [
    {
     "data": {
      "text/plain": [
       "array(['5-6 hours', 'Less than 5 hours', '7-8 hours', 'More than 8 hours'],\n",
       "      dtype=object)"
      ]
     },
     "execution_count": 83,
     "metadata": {},
     "output_type": "execute_result"
    }
   ],
   "source": [
    "df3['Sleep Duration'].unique()"
   ]
  },
  {
   "cell_type": "code",
   "execution_count": 84,
   "metadata": {},
   "outputs": [
    {
     "data": {
      "image/png": "[encoded data removed]",
      "text/plain": [
       "<Figure size 640x480 with 1 Axes>"
      ]
     },
     "metadata": {},
     "output_type": "display_data"
    }
   ],
   "source": [
    "\n",
    "labels=['Less than 5 hours','5-6 hours','7-8 hours','More than 8 hours']\n",
    "means = stats.loc[labels]['mean']\n",
    "\n",
    "# Create a dot plot\n",
    "plt.plot(labels, means, 'o', color='blue', markersize=10)\n",
    "plt.title('Mean Academic Pressure by Sleep Duration')\n",
    "plt.ylim(3,3.5)  \n",
    "plt.grid()\n",
    "\n",
    "plt.show()"
   ]
  },
  {
   "cell_type": "markdown",
   "metadata": {},
   "source": [
    "#### Xét mối liên hệ giữa thời lượng giấc ngủ và điểm số"
   ]
  },
  {
   "cell_type": "code",
   "execution_count": 85,
   "metadata": {},
   "outputs": [
    {
     "data": {
      "text/html": [
       "<div>\n",
       "<style scoped>\n",
       "    .dataframe tbody tr th:only-of-type {\n",
       "        vertical-align: middle;\n",
       "    }\n",
       "\n",
       "    .dataframe tbody tr th {\n",
       "        vertical-align: top;\n",
       "    }\n",
       "\n",
       "    .dataframe thead th {\n",
       "        text-align: right;\n",
       "    }\n",
       "</style>\n",
       "<table border=\"1\" class=\"dataframe\">\n",
       "  <thead>\n",
       "    <tr style=\"text-align: right;\">\n",
       "      <th></th>\n",
       "      <th>mean</th>\n",
       "      <th>std</th>\n",
       "      <th>count</th>\n",
       "    </tr>\n",
       "    <tr>\n",
       "      <th>Sleep Duration</th>\n",
       "      <th></th>\n",
       "      <th></th>\n",
       "      <th></th>\n",
       "    </tr>\n",
       "  </thead>\n",
       "  <tbody>\n",
       "    <tr>\n",
       "      <th>Less than 5 hours</th>\n",
       "      <td>7.640473</td>\n",
       "      <td>1.463252</td>\n",
       "      <td>8310</td>\n",
       "    </tr>\n",
       "    <tr>\n",
       "      <th>5-6 hours</th>\n",
       "      <td>7.688737</td>\n",
       "      <td>1.448295</td>\n",
       "      <td>6183</td>\n",
       "    </tr>\n",
       "    <tr>\n",
       "      <th>7-8 hours</th>\n",
       "      <td>7.686127</td>\n",
       "      <td>1.483631</td>\n",
       "      <td>7346</td>\n",
       "    </tr>\n",
       "    <tr>\n",
       "      <th>More than 8 hours</th>\n",
       "      <td>7.607902</td>\n",
       "      <td>1.486312</td>\n",
       "      <td>6044</td>\n",
       "    </tr>\n",
       "  </tbody>\n",
       "</table>\n",
       "</div>"
      ],
      "text/plain": [
       "                       mean       std  count\n",
       "Sleep Duration                              \n",
       "Less than 5 hours  7.640473  1.463252   8310\n",
       "5-6 hours          7.688737  1.448295   6183\n",
       "7-8 hours          7.686127  1.483631   7346\n",
       "More than 8 hours  7.607902  1.486312   6044"
      ]
     },
     "execution_count": 85,
     "metadata": {},
     "output_type": "execute_result"
    }
   ],
   "source": [
    "stats=df3.groupby(['Sleep Duration'])['CGPA'].agg(['mean','std','count'])\n",
    "stats.loc[['Less than 5 hours','5-6 hours','7-8 hours','More than 8 hours']]"
   ]
  },
  {
   "cell_type": "markdown",
   "metadata": {},
   "source": [
    "Có thể nhận xét rằng xu hướng chung là ngủ ít quá hoặc nhiều quá thì điểm CGPA sẽ thấp hơn so với những người ngủ đủ.   \n",
    "\n",
    "Điểm tăng 0.04, từ nhóm 1 xuống nhóm 2, nhóm 2 và nhóm 3 gần bằng nhau và giảm 0.08, khi qua nhóm 4.  \n",
    "\n",
    "Sự cách biệt giữa nhóm 2 và 3 với nhóm 1 và 4 khá rõ rệt nên ta sẽ chỉ thử kiểm định xem nhóm 2 hay nhóm 3 có điểm CGPA cao hơn"
   ]
  },
  {
   "cell_type": "code",
   "execution_count": 86,
   "metadata": {},
   "outputs": [
    {
     "name": "stdout",
     "output_type": "stream",
     "text": [
      "T-statistic: 0.10303420052760112\n",
      "P-value: 0.4589686773198591\n"
     ]
    }
   ],
   "source": [
    "d2=df3[df3['Sleep Duration']=='5-6 hours']['CGPA']\n",
    "d3=df3[df3['Sleep Duration']=='7-8 hours']['CGPA']\n",
    "t_stat, p_value = ttest_ind(d2, d3, alternative='greater')\n",
    "print(f\"T-statistic: {t_stat}\")\n",
    "print(f\"P-value: {p_value}\")"
   ]
  },
  {
   "cell_type": "markdown",
   "metadata": {},
   "source": [
    "Do giá trị p-value rất lớn nên ta không thể bác bỏ giả thuyết rằng CGPA của 2 nhóm này bằng nhau.\n",
    "\n",
    "Vậy có thể khẳng định rằng nếu ngủ từ khoảng 5 tới 8 tiếng một ngày thì CGPA sẽ tốt nhất. Ngủ nhiều hơn hoặc ít hơn thời gian này đều sẽ làm giảm CGPA"
   ]
  },
  {
   "cell_type": "code",
   "execution_count": 87,
   "metadata": {},
   "outputs": [
    {
     "data": {
      "image/png": "[encoded data removed]",
      "text/plain": [
       "<Figure size 640x480 with 1 Axes>"
      ]
     },
     "metadata": {},
     "output_type": "display_data"
    }
   ],
   "source": [
    "\n",
    "labels=['Less than 5 hours','5-6 hours','7-8 hours','More than 8 hours']\n",
    "means = stats.loc[labels]['mean']\n",
    "\n",
    "# Create a dot plot\n",
    "plt.plot(labels, means, 'o', color='blue', markersize=10)\n",
    "plt.title('Mean CGPA of Academic Pressure by Sleep Duration')\n",
    "plt.ylim(7,8)  \n",
    "plt.grid()\n",
    "\n",
    "plt.show()"
   ]
  },
  {
   "cell_type": "markdown",
   "metadata": {},
   "source": [
    "##### Ý nghĩa:\n",
    "+ Học sinh, sinh viên đạt CGPA tốt nhất khi ngủ đủ giấc từ 5-8 tiếng.\n",
    "+ Học sinh, sinh viên càng ngủ nhiều tinh thần càng khuây khỏa, dẫn đến áp lực học tập càng giảm"
   ]
  },
  {
   "cell_type": "markdown",
   "metadata": {},
   "source": [
    "## 4. Mối liên hệ giữa nghề nghiệp và áp lực\n",
    "\n",
    "- Câu hỏi: Việc sinh viên làm thêm hay có nghề nghiệp ngoài giờ (Profession) có ảnh hưởng gì đến mức độ áp lực công việc (Work Pressure), sự hài lòng trong học tập (Study Satisfaction) và sự hài lòng trong công việc (Job Satisfaction)?\n",
    "- Mục đích: Xem xét tác động của việc vừa học vừa làm đối với sức khỏe tinh thần và sự hài lòng cá nhân."
   ]
  },
  {
   "cell_type": "markdown",
   "metadata": {},
   "source": [
    "## 5. Tương quan giữa áp lực học tập và công việc\n",
    "\n",
    "- Câu hỏi: Áp lực học tập và áp lực công việc có mối tương quan như thế nào và sự kết hợp của chúng ảnh hưởng ra sao đến mức độ hài lòng trong học tập (Study Satisfaction) và mức độ hài lòng trong công việc (Job Satisfaction)?\n",
    "- Mục đích: Hiểu rõ tác động kép của áp lực lên mức độ hài lòng."
   ]
  },
  {
   "cell_type": "markdown",
   "metadata": {},
   "source": [
    "## 6. Thói quen ăn uống và sức khỏe tinh thần\n",
    "\n",
    "- Câu hỏi: Thói quen ăn uống (Dietary Habits) có liên quan đến thời lượng ngủ (Sleep Duration), sự hài lòng trong học tập hoặc sự hài lòng trong công việc như thế nào?\n",
    "- Mục đích: Xem dinh dưỡng có đóng vai trò hỗ trợ trạng thái tinh thần và chất lượng cuộc sống hay không."
   ]
  },
  {
   "cell_type": "markdown",
   "metadata": {},
   "source": [
    "## 7. Mối liên hệ giữa áp lực và điểm số\n",
    "\n",
    "- Câu hỏi: Sinh viên chịu áp lực học tập cao có CGPA(Cumulative Grade Point Average) khác biệt so với những sinh viên áp lực thấp không?\n",
    "- Mục đích: Xem liệu áp lực cao có tương quan với hiệu suất học tập tốt hơn hoặc kém hơn."
   ]
  },
  {
   "cell_type": "code",
   "execution_count": 88,
   "metadata": {},
   "outputs": [
    {
     "data": {
      "text/html": [
       "<div>\n",
       "<style scoped>\n",
       "    .dataframe tbody tr th:only-of-type {\n",
       "        vertical-align: middle;\n",
       "    }\n",
       "\n",
       "    .dataframe tbody tr th {\n",
       "        vertical-align: top;\n",
       "    }\n",
       "\n",
       "    .dataframe thead th {\n",
       "        text-align: right;\n",
       "    }\n",
       "</style>\n",
       "<table border=\"1\" class=\"dataframe\">\n",
       "  <thead>\n",
       "    <tr style=\"text-align: right;\">\n",
       "      <th></th>\n",
       "      <th>mean</th>\n",
       "      <th>std</th>\n",
       "      <th>count</th>\n",
       "    </tr>\n",
       "    <tr>\n",
       "      <th>Academic Pressure</th>\n",
       "      <th></th>\n",
       "      <th></th>\n",
       "      <th></th>\n",
       "    </tr>\n",
       "  </thead>\n",
       "  <tbody>\n",
       "    <tr>\n",
       "      <th>0.0</th>\n",
       "      <td>2.173333</td>\n",
       "      <td>3.375363</td>\n",
       "      <td>9</td>\n",
       "    </tr>\n",
       "    <tr>\n",
       "      <th>1.0</th>\n",
       "      <td>7.724066</td>\n",
       "      <td>1.467177</td>\n",
       "      <td>4801</td>\n",
       "    </tr>\n",
       "    <tr>\n",
       "      <th>2.0</th>\n",
       "      <td>7.699495</td>\n",
       "      <td>1.496335</td>\n",
       "      <td>4178</td>\n",
       "    </tr>\n",
       "    <tr>\n",
       "      <th>3.0</th>\n",
       "      <td>7.646876</td>\n",
       "      <td>1.454031</td>\n",
       "      <td>7462</td>\n",
       "    </tr>\n",
       "    <tr>\n",
       "      <th>4.0</th>\n",
       "      <td>7.616541</td>\n",
       "      <td>1.455500</td>\n",
       "      <td>5155</td>\n",
       "    </tr>\n",
       "    <tr>\n",
       "      <th>5.0</th>\n",
       "      <td>7.626653</td>\n",
       "      <td>1.467877</td>\n",
       "      <td>6296</td>\n",
       "    </tr>\n",
       "  </tbody>\n",
       "</table>\n",
       "</div>"
      ],
      "text/plain": [
       "                       mean       std  count\n",
       "Academic Pressure                           \n",
       "0.0                2.173333  3.375363      9\n",
       "1.0                7.724066  1.467177   4801\n",
       "2.0                7.699495  1.496335   4178\n",
       "3.0                7.646876  1.454031   7462\n",
       "4.0                7.616541  1.455500   5155\n",
       "5.0                7.626653  1.467877   6296"
      ]
     },
     "execution_count": 88,
     "metadata": {},
     "output_type": "execute_result"
    }
   ],
   "source": [
    "stats = df.groupby('Academic Pressure')['CGPA'].agg(['mean', 'std', 'count'])\n",
    "stats"
   ]
  },
  {
   "cell_type": "code",
   "execution_count": 89,
   "metadata": {},
   "outputs": [
    {
     "data": {
      "image/png": "[encoded data removed]",
      "text/plain": [
       "<Figure size 1000x600 with 1 Axes>"
      ]
     },
     "metadata": {},
     "output_type": "display_data"
    }
   ],
   "source": [
    "plt.figure(figsize=(10, 6))\n",
    "stats['mean'].plot(kind='bar', title='Average CGPA by Academic Pressure')\n",
    "plt.xlabel('Academic Pressure (0 = Low, 5 = High)')\n",
    "plt.ylabel('Average CGPA')\n",
    "plt.show()"
   ]
  },
  {
   "cell_type": "markdown",
   "metadata": {},
   "source": [
    "- Nhìn vào kết quả thống kê trên ta thấy được điểm trung bình tích luỹ(CGPA) tăng đáng kể khi áp lực học tập(Academic Pressure) tăng từ **0 lên 1**. Sau đó thì trung bình tích luỹ duy trì khá ổn định (7.6 -> 7.7) với mức áp lực từ 1 đến 5\n",
    "\n",
    "***Kết luận:*** </br>\n",
    "- Áp lực học tập thấp nhất (0.0) dường như có liên quan đến hiệu suất học tập kém. Độ lệch chuẩn cũng rất cao (~3.37) chứng tỏ kết quả không ổn định trong nhóm này. \n",
    "\n",
    "*Tuy nhiên count nhóm này chỉ có 9, cần phải có thêm nhiều dữ liệu về nhóm này hơn để đưa ra kết luận cuối cùng*\n",
    "- Khi áp lực tăng lên thì điểm số dường như rất ổn định ở mức 7.6->7.7 với std khoảng 1.45->1.49 - chứng tỏ có sự ổn định giữa các sinh viên"
   ]
  },
  {
   "cell_type": "code",
   "execution_count": 90,
   "metadata": {},
   "outputs": [
    {
     "data": {
      "image/png": "[encoded data removed]",
      "text/plain": [
       "<Figure size 1000x600 with 1 Axes>"
      ]
     },
     "metadata": {},
     "output_type": "display_data"
    }
   ],
   "source": [
    "plt.figure(figsize=(10, 6))\n",
    "sns.boxplot(data=df, x='Academic Pressure', y='CGPA', palette='Set3')\n",
    "plt.title('Distribution of CGPA by Academic Pressure Level')\n",
    "plt.xlabel('Academic Pressure (0 = Low, 5 = High)')\n",
    "plt.ylabel('CGPA')\n",
    "plt.show()"
   ]
  },
  {
   "cell_type": "code",
   "execution_count": 91,
   "metadata": {},
   "outputs": [
    {
     "name": "stdout",
     "output_type": "stream",
     "text": [
      "ANOVA result(p-value) for Academic Pressure (1->5): 0.0003943327785013564\n"
     ]
    }
   ],
   "source": [
    "groups = [df[df['Academic Pressure'] == i]['CGPA'] for i in range(1, 6)]\n",
    "anova_result = f_oneway(*groups)\n",
    "print(\"ANOVA result(p-value) for Academic Pressure (1->5):\", anova_result.pvalue)"
   ]
  },
  {
   "cell_type": "markdown",
   "metadata": {},
   "source": [
    "p-value của Kiểm định ANOVA = 0.00039 < 0.05 suy ra được là không có sự khác nhau về CGPA của các mức áp lực từ 1->5 "
   ]
  },
  {
   "cell_type": "markdown",
   "metadata": {},
   "source": [
    "Có thể thấy trừ khi sinh viên không có một chút áp lực học tập nào(0.0) thì CGPA mới kém và mất ổn định\n",
    "\n",
    "Các áp lực từ 1.0 -> 5.0 kết quả cho thấy không có sự dao động nào quá nhiều, khoảng CGPA cũng gần như tương đồng nhau. \n",
    "\n",
    "**=> Kết luận chung:** Nếu muốn tối ưu hiệu suất học tập, một mức độ áp lực học tập vừa phải là lý tưởng. Không cần phải quá đặt nặng áp lực nhưng cũng đừng quá buông lỏng. "
   ]
  },
  {
   "cell_type": "markdown",
   "metadata": {},
   "source": [
    "## 8. Sự hài lòng trong học tập và công việc:\n",
    "- Câu hỏi: Sự hài lòng trong học tập (Study Satisfaction) có ảnh hưởng đến CGPA không?\n",
    "- Mục đích: Xem xét mối quan hệ giữa mức độ hài lòng cá nhân với hiệu suất và sức khỏe.\n"
   ]
  },
  {
   "cell_type": "code",
   "execution_count": 92,
   "metadata": {},
   "outputs": [
    {
     "data": {
      "text/html": [
       "<div>\n",
       "<style scoped>\n",
       "    .dataframe tbody tr th:only-of-type {\n",
       "        vertical-align: middle;\n",
       "    }\n",
       "\n",
       "    .dataframe tbody tr th {\n",
       "        vertical-align: top;\n",
       "    }\n",
       "\n",
       "    .dataframe thead th {\n",
       "        text-align: right;\n",
       "    }\n",
       "</style>\n",
       "<table border=\"1\" class=\"dataframe\">\n",
       "  <thead>\n",
       "    <tr style=\"text-align: right;\">\n",
       "      <th></th>\n",
       "      <th>mean</th>\n",
       "      <th>std</th>\n",
       "      <th>count</th>\n",
       "    </tr>\n",
       "    <tr>\n",
       "      <th>Study Satisfaction</th>\n",
       "      <th></th>\n",
       "      <th></th>\n",
       "      <th></th>\n",
       "    </tr>\n",
       "  </thead>\n",
       "  <tbody>\n",
       "    <tr>\n",
       "      <th>0.0</th>\n",
       "      <td>1.717000</td>\n",
       "      <td>2.765735</td>\n",
       "      <td>10</td>\n",
       "    </tr>\n",
       "    <tr>\n",
       "      <th>1.0</th>\n",
       "      <td>7.745137</td>\n",
       "      <td>1.451340</td>\n",
       "      <td>5451</td>\n",
       "    </tr>\n",
       "    <tr>\n",
       "      <th>2.0</th>\n",
       "      <td>7.728684</td>\n",
       "      <td>1.475230</td>\n",
       "      <td>5838</td>\n",
       "    </tr>\n",
       "    <tr>\n",
       "      <th>3.0</th>\n",
       "      <td>7.624382</td>\n",
       "      <td>1.466556</td>\n",
       "      <td>5821</td>\n",
       "    </tr>\n",
       "    <tr>\n",
       "      <th>4.0</th>\n",
       "      <td>7.642696</td>\n",
       "      <td>1.449052</td>\n",
       "      <td>6359</td>\n",
       "    </tr>\n",
       "    <tr>\n",
       "      <th>5.0</th>\n",
       "      <td>7.525002</td>\n",
       "      <td>1.482607</td>\n",
       "      <td>4422</td>\n",
       "    </tr>\n",
       "  </tbody>\n",
       "</table>\n",
       "</div>"
      ],
      "text/plain": [
       "                        mean       std  count\n",
       "Study Satisfaction                           \n",
       "0.0                 1.717000  2.765735     10\n",
       "1.0                 7.745137  1.451340   5451\n",
       "2.0                 7.728684  1.475230   5838\n",
       "3.0                 7.624382  1.466556   5821\n",
       "4.0                 7.642696  1.449052   6359\n",
       "5.0                 7.525002  1.482607   4422"
      ]
     },
     "execution_count": 92,
     "metadata": {},
     "output_type": "execute_result"
    }
   ],
   "source": [
    "study_stats = df.groupby('Study Satisfaction')['CGPA'].agg(['mean', 'std', 'count'])\n",
    "study_stats"
   ]
  },
  {
   "cell_type": "code",
   "execution_count": 93,
   "metadata": {},
   "outputs": [
    {
     "data": {
      "image/png": "[encoded data removed]",
      "text/plain": [
       "<Figure size 1000x600 with 1 Axes>"
      ]
     },
     "metadata": {},
     "output_type": "display_data"
    }
   ],
   "source": [
    "study_stats['mean'].plot(kind='bar', title='Average CGPA by Study Satisfaction', figsize=(10, 6))\n",
    "plt.ylabel('Average CGPA')\n",
    "plt.xlabel('Study Satisfaction (0 = Very Dissatisfied, 5 = Very Satisfied)')\n",
    "\n",
    "# Tìm vị trí của giá trị max\n",
    "max_idx = study_stats['mean'].idxmax()\n",
    "max_value = study_stats['mean'].max()\n",
    "\n",
    "# Thêm nhãn cho cột max\n",
    "plt.text(x=max_idx, y=max_value + 0.1, s=f'Max: {max_value:.2f}', \n",
    "         ha='center', va='bottom', fontsize=10, color='red', fontweight='bold')\n",
    "\n",
    "plt.show()"
   ]
  },
  {
   "cell_type": "code",
   "execution_count": 94,
   "metadata": {},
   "outputs": [
    {
     "name": "stdout",
     "output_type": "stream",
     "text": [
      "Hệ số tương quan Pearson giữa Study Satisfaction và Academic Pressure: -0.11098809743084373\n"
     ]
    }
   ],
   "source": [
    "correlation = df['Study Satisfaction'].corr(df['Academic Pressure'])\n",
    "print(\"Hệ số tương quan Pearson giữa Study Satisfaction và Academic Pressure:\", correlation)"
   ]
  },
  {
   "cell_type": "markdown",
   "metadata": {},
   "source": [
    "Nhìn vào kết quả thống kê ta thấy được:\n",
    "-  Study Satisfaction = 0(không hài lòng): Mean = 1.717, rất thấp so với các nhóm khác, điều này cho sinh viên không hài lòng trong học tập sẽ có kết quả rất kém. std nhóm này cũng cao (2.7) cho thấy sự dao động lớn về CGPA của nhóm này so với các nhóm còn lại (1.44 < std < 1.48). Tuy nhiên count nhóm này chỉ có 10, cần bổ sung thêm nếu muốn đưa ra kết luận chắc chắn\n",
    "\n",
    "- Study Satisfaction = 1 (hài lòng mức độ thấp): Mean = 7.745, cao nhất trong các nhóm, đây là một điều khá thú vị vì mức độ hài lòng gần như thấp nhất nhưng mang lại kết quả cao nhất. Điều này có thể là do họ cảm thấy họ chưa hài lòng với việc học của mình, họ nghĩ \"mình có thể làm tốt hơn\". Đây có thể là động lực để giúp họ đẩy cao kết quả học tập. (Tuy nhiên khác với mức độ 0 vì đây là trạng thái cực đoạn)\n",
    "\n",
    "- Study Satisfaction từ 2 -> 5: sinh viên có mức độ hài lòng ở khoảng này CGPA không tăng mà còn giảm nhẹ, đặc biệt là từ 3 -> 5. Có thể việc quá hài lòng dẫn cho họ đến một chút lơ là trong học tập, dẫn đến CGPA không được tốt.\n",
    "\n",
    "Nhìn vào hệ số tương quan:\n"
   ]
  },
  {
   "cell_type": "markdown",
   "metadata": {},
   "source": [
    "# 5. Modeling"
   ]
  }
 ],
 "metadata": {
  "kernelspec": {
   "display_name": "min_ds-env",
   "language": "python",
   "name": "python3"
  },
  "language_info": {
   "codemirror_mode": {
    "name": "ipython",
    "version": 3
   },
   "file_extension": ".py",
   "mimetype": "text/x-python",
   "name": "python",
   "nbconvert_exporter": "python",
   "pygments_lexer": "ipython3",
   "version": "3.10.8"
  }
 },
 "nbformat": 4,
 "nbformat_minor": 2
}
